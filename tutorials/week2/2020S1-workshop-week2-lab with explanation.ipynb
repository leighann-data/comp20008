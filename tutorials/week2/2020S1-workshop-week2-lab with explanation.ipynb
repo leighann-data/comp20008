{
 "cells": [
  {
   "cell_type": "markdown",
   "metadata": {},
   "source": [
    "# Elements Of Data Processing (2020S1) - Week 2\n"
   ]
  },
  {
   "cell_type": "markdown",
   "metadata": {},
   "source": [
    "# DataFrames\n",
    "\n",
    "DataFrames represents tabular data structure and can contain multiple rows and columns.  They can be thought of as a dictionary of Series objects, and are one of the most important data structures you will use to store and manipulate information in data science.\n",
    "\n",
    "A DataFrame has both row and column indices.\n",
    "\n",
    "The Pandas DataFrame structure contains many useful methods to aid your analysis.  Recall from week 1 the [API reference](https://pandas.pydata.org/pandas-docs/stable/reference/index.html) is available which details all of the functionality provided by pandas.  You will particularly need con consult the [DataFrame](https://pandas.pydata.org/pandas-docs/stable/reference/frame.html) reference page.\n",
    "\n",
    "\n",
    "<img src=\"images/DF.jpg\">\n"
   ]
  },
  {
   "cell_type": "code",
   "execution_count": null,
   "metadata": {},
   "outputs": [],
   "source": [
    "# as before, begin by importing the pandas library\n",
    "import pandas as pd"
   ]
  },
  {
   "cell_type": "code",
   "execution_count": null,
   "metadata": {},
   "outputs": [],
   "source": [
    "# create a new series of the population\n",
    "Aus_Population = {'1990':17065100, '2000':19153000, '2007':20827600,\n",
    "                 '2008':21249200,'2009':21691700,'2010':22031750,\n",
    "                 '2011':22340024, '2012':22728254, '2013':23117353}\n",
    "population = pd.Series(Aus_Population)"
   ]
  },
  {
   "cell_type": "code",
   "execution_count": null,
   "metadata": {},
   "outputs": [],
   "source": [
    "# we will reuse the emissions data from last week\n",
    "Aus_Emission = {'1990':15.45288167, '2000':17.20060983, '2007':17.86526004,\n",
    "                '2008':18.16087566,'2009':18.20018196,'2010':16.92095367,\n",
    "                '2011':16.86260095, '2012':16.51938578, '2013':16.34730205}\n",
    "\n",
    "co2_Emission = pd.Series(Aus_Emission)"
   ]
  },
  {
   "cell_type": "code",
   "execution_count": null,
   "metadata": {},
   "outputs": [],
   "source": [
    "# verify the values in the series\n",
    "population"
   ]
  },
  {
   "cell_type": "code",
   "execution_count": null,
   "metadata": {},
   "outputs": [],
   "source": [
    "# create a DataFrame object from the series objects\n",
    "australia = pd.DataFrame({'co2_emission':co2_Emission, 'Population':population})\n",
    "australia"
   ]
  },
  {
   "cell_type": "code",
   "execution_count": null,
   "metadata": {},
   "outputs": [],
   "source": [
    "# create a DataFrame from a csv file\n",
    "countries = pd.read_csv('data/countries.csv',encoding = 'ISO-8859-1')"
   ]
  },
  {
   "cell_type": "code",
   "execution_count": null,
   "metadata": {},
   "outputs": [],
   "source": [
    "# check the top 10 countries in the DataFrame\n",
    "countries.head(10) # the default value is set to 5"
   ]
  },
  {
   "cell_type": "code",
   "execution_count": null,
   "metadata": {},
   "outputs": [],
   "source": [
    "# count the number of countries in each region\n",
    "countries.Region.value_counts()"
   ]
  },
  {
   "cell_type": "code",
   "execution_count": null,
   "metadata": {},
   "outputs": [],
   "source": [
    "# set the name of countries as the index\n",
    "countries.set_index('Country')\n"
   ]
  },
  {
   "cell_type": "code",
   "execution_count": null,
   "metadata": {},
   "outputs": [],
   "source": [
    "# create a new DataFrame for the CO2 emission from a csv file\n",
    "emission = pd.read_csv('data/emission.csv',encoding = 'ISO-8859-1')\n",
    "#emission.head()"
   ]
  },
  {
   "cell_type": "code",
   "execution_count": null,
   "metadata": {},
   "outputs": [],
   "source": [
    "# Create a subset of emission dataset for Year 2010\n",
    "yr2010 = emission['2010']\n",
    "names  = emission['Country']\n",
    "yr2010.index = names\n",
    "type(yr2010)"
   ]
  },
  {
   "cell_type": "code",
   "execution_count": null,
   "metadata": {},
   "outputs": [],
   "source": [
    "# Sort column values using sort_values \n",
    "yr2010.sort_values()\n"
   ]
  },
  {
   "cell_type": "code",
   "execution_count": null,
   "metadata": {},
   "outputs": [],
   "source": [
    "#Sort column values to find the top countries\n",
    "yr2010.sort_values(ascending = False)"
   ]
  },
  {
   "cell_type": "markdown",
   "metadata": {},
   "source": [
    "### <span style=\"color:blue\"> Exercise 1 </span>\n",
    "\n",
    "- Retrieve the mean, median of CO2 emission generated in 2012 by all countries.\n",
    "- Retrieve the top 5 countries with the most CO2 emission in 2012. How about the 5 countries with the least emission? (remember that sort_values has an **ascending** parameter that is set to True by default).\n",
    "- Retrieve the sum of CO2 emission for all years and find the 2 years with the maximum CO2 emission.\n",
    "\n",
    "\n",
    "\n"
   ]
  },
  {
   "cell_type": "code",
   "execution_count": null,
   "metadata": {},
   "outputs": [],
   "source": [
    "##answer here\n",
    "\n"
   ]
  },
  {
   "cell_type": "markdown",
   "metadata": {},
   "source": [
    "# More Sort Operations\n",
    "Pandas allows you to sort your DataFrame by rows/columns as follows:"
   ]
  },
  {
   "cell_type": "code",
   "execution_count": null,
   "metadata": {},
   "outputs": [],
   "source": [
    "# Sort column values of a DataFrame\n",
    "sorted2012 = emission.sort_values( by = '2012',ascending = False )\n",
    "sorted2012"
   ]
  },
  {
   "cell_type": "code",
   "execution_count": null,
   "metadata": {},
   "outputs": [],
   "source": [
    "# Sort column values using two columns\n",
    "sorted2012 = emission.sort_values( by = ['2012','2013'],ascending = [False, True] )\n",
    "sorted2012"
   ]
  },
  {
   "cell_type": "markdown",
   "metadata": {},
   "source": [
    "#### Slicing using the .loc and .iloc method\n",
    "Slicing allows you to take part of your DataFrame.  You can use the .iloc method to select data using row/column numbers, or use .loc to select data using row/column headings.  See [this article](https://www.shanelynn.ie/select-pandas-dataframe-rows-and-columns-using-iloc-loc-and-ix/) for more examples"
   ]
  },
  {
   "cell_type": "code",
   "execution_count": null,
   "metadata": {},
   "outputs": [],
   "source": [
    "# Slicing using a range of rows and range of columns \n",
    "emission.iloc[2:5,2:6]"
   ]
  },
  {
   "cell_type": "code",
   "execution_count": null,
   "metadata": {},
   "outputs": [],
   "source": [
    "# Slicing using specific rows and specific columns\n",
    "emission.loc[[3,5],['Country','1990']]"
   ]
  },
  {
   "cell_type": "code",
   "execution_count": null,
   "metadata": {},
   "outputs": [],
   "source": [
    "# Specific rows and all columns\n",
    "\n",
    "emission.loc[[3,5],:]"
   ]
  },
  {
   "cell_type": "code",
   "execution_count": null,
   "metadata": {},
   "outputs": [],
   "source": [
    "# All rows and specific columns\n",
    "emission.loc[:,['Country','1990']]"
   ]
  },
  {
   "cell_type": "markdown",
   "metadata": {},
   "source": [
    "### <span style=\"color:blue\"> Exercise 2 </span>\n",
    "\n",
    "Create a DataFrame object that has the name, region and IncomeGroup of the top 10 emitting countries in 2012.\n",
    "\n",
    "\n",
    "\n",
    "\n"
   ]
  },
  {
   "cell_type": "code",
   "execution_count": null,
   "metadata": {},
   "outputs": [],
   "source": [
    "##answer here\n",
    "\n"
   ]
  },
  {
   "cell_type": "markdown",
   "metadata": {},
   "source": [
    "## Groupby\n",
    "The Groupby method lets you separate the data into different groups based off shared characteristics.  For example, we could group countries by region or income range and then analyse those groups individually.  The official documentation on groupby can be found [here](https://pandas.pydata.org/pandas-docs/stable/user_guide/groupby.html).  [This tutorial](https://www.marsja.se/python-pandas-groupby-tutorial-examples/) is also well worth reading."
   ]
  },
  {
   "cell_type": "markdown",
   "metadata": {},
   "source": [
    "#### Groupby\n",
    "<img src=\"files/images/groupby1.jpg\">"
   ]
  },
  {
   "cell_type": "markdown",
   "metadata": {},
   "source": [
    "### <span style=\"color:blue\"> Exercise 3 </span>\n",
    "\n",
    "Using Countries data frame, group the rows using the Region column.\n",
    "* Show the size of each group\n",
    "* Find the number of high income and low income countries by region"
   ]
  },
  {
   "cell_type": "code",
   "execution_count": null,
   "metadata": {},
   "outputs": [],
   "source": [
    "##answer here\n",
    "\n"
   ]
  },
  {
   "cell_type": "markdown",
   "metadata": {},
   "source": [
    "# Basic visualization with Python\n",
    "\n",
    "In these exercises you will:\n",
    "\n",
    "- learn how to visualize a set of data using a Python library called `matplotlib`.\n",
    "- find out different forms of visualization, such as bar charts, histograms, scatter plot, and boxplot.\n",
    "\n",
    "You will be able to transform a set of data into an appropriate visualization form.\n",
    "\n",
    "`matplotlib` is a Python 2D plotting library that enables you to produce figures and charts, both in a screen or in an image file. \n",
    "\n",
    "The following example demonstrates a simple plot of the top 100 emissions in 2010. \n"
   ]
  },
  {
   "cell_type": "markdown",
   "metadata": {},
   "source": [
    "# Why visualisation?\n",
    "* Converting data into a visual format\n",
    "    * Reveals the structure of the data, information in the data\n",
    "    * Characteristics of the data, relationships between objects or relationships between features\n",
    "    * Simplifies the data\n",
    "* See patterns\n",
    "* Spot anomalies, outliers\n",
    "* Visualisation can help show data quality\n",
    "* Basic visualisations: boxplots, histograms, scatter plots, bar plots"
   ]
  },
  {
   "cell_type": "markdown",
   "metadata": {},
   "source": [
    "# Elements of a good visualisation\n",
    "* Meaningful title.\n",
    "* Appropriate scales, annotation\n",
    "* Suitability to the dataset and the context of the data question\n",
    "* Can be interpreted on its own.\n",
    "    * Caption can be used to explain the context, the dataset, and a brief interpretation of plot, where appropriate.\n",
    "* Has no redundant, information unimportant to the plot. \n",
    "* Customisation and improvisation may be required."
   ]
  },
  {
   "cell_type": "code",
   "execution_count": null,
   "metadata": {},
   "outputs": [],
   "source": [
    "# slice the data to get top 100 emissions in 2010\n",
    "\n",
    "yr2010_sorted = yr2010.sort_values(ascending = False)\n",
    "top100_yr2010 = yr2010_sorted[0:100]\n"
   ]
  },
  {
   "cell_type": "code",
   "execution_count": null,
   "metadata": {},
   "outputs": [],
   "source": [
    "%matplotlib inline\n",
    "import matplotlib.pyplot as plt\n",
    "\n",
    "plt.boxplot(top100_yr2010) # a boxplot of the top 100 emissions in year 2020"
   ]
  },
  {
   "cell_type": "markdown",
   "metadata": {},
   "source": [
    "## Scatter plot\n",
    "\n",
    "\n",
    "Scatter plot is often used to display the relationship between two variables (plot as x-y pairs). In this scatter plot example, we use [famous Iris data set](http://en.wikipedia.org/wiki/Iris_flower_data_set). The data is available [here](data/iris.csv). This data set provides measurements on various parts of three types of Iris flower (Iris setosa, Iris versicolour, and Iris virginica). For each type, there are 50 measurements, or samples. Each data row in the CSV file contains (1) sepal length, (2) sepal width, (3) petal length, (4) petal width, and (5) the type of Iris flower.\n",
    "\n",
    "The following code generates the scatter plot between petal length and petal width of the three Iris types."
   ]
  },
  {
   "attachments": {
    "image.png": {
     "image/png": "[encoded data removed]"
    }
   },
   "cell_type": "markdown",
   "metadata": {},
   "source": [
    "### Relationship between two variables \n",
    "\n",
    "![image.png](attachment:image.png)"
   ]
  },
  {
   "cell_type": "markdown",
   "metadata": {},
   "source": [
    "When there are many data points, dots tend to overlap\n",
    "\n",
    "- Reduce dot size \n",
    "- Sampling\n",
    "- Jitter (for moderate overplotting)\n",
    "> \"Jittering\" is adding a bit of random noise to scatterplots, to better see the information contained in the data\n",
    "- Use other plots"
   ]
  },
  {
   "cell_type": "code",
   "execution_count": null,
   "metadata": {},
   "outputs": [],
   "source": [
    "%matplotlib inline\n",
    "import pandas as pd\n",
    "import matplotlib.pyplot as plt\n",
    "\n",
    "iris=pd.read_csv('data/iris.csv',encoding = 'ISO-8859-1',header=None)\n",
    "setosa=iris.loc[iris[4]=='Iris-setosa']\n",
    "versicolor=iris.loc[iris[4]=='Iris-versicolor']\n",
    "virginica=iris.loc[iris[4]=='Iris-virginica']\n",
    "\n",
    "\n",
    "plt.scatter(setosa.iloc[:,2],setosa.iloc[:,3],color='green')\n",
    "plt.scatter(versicolor.iloc[:,2],versicolor.iloc[:,3],color='red')\n",
    "plt.scatter(virginica.iloc[:,2],virginica.iloc[:,3],color='blue')\n",
    "plt.xlim(0.5,7.5)\n",
    "plt.ylim(0,3)\n",
    "plt.ylabel(\"petal width\")\n",
    "plt.xlabel(\"petal length\")\n",
    "plt.grid(True)\n",
    "\n"
   ]
  },
  {
   "cell_type": "markdown",
   "metadata": {},
   "source": [
    "From the scatter plot, we may be able to suggest a particular type of relationship or a formation of clusters. In the example above you may notice that, for Iris versicolor, the samples with longer petal tend to have wider petal. You can also see clearly that there exist clusters of these three Irises. As such, the measurements of petal and sepal can help identifying the type of Iris flower. This example demonstrates how botanists may indentify a certain species from phenotype characteristics."
   ]
  },
  {
   "cell_type": "markdown",
   "metadata": {},
   "source": [
    "### <span style=\"color:blue\"> Exercise 4 </span> \n",
    "\n",
    "\n",
    "Modify the example above to generate the scatter plot of petal length and sepal length.\n"
   ]
  },
  {
   "cell_type": "code",
   "execution_count": null,
   "metadata": {},
   "outputs": [],
   "source": [
    "##answer here\n",
    "\n",
    "\n",
    "\n"
   ]
  },
  {
   "cell_type": "markdown",
   "metadata": {},
   "source": [
    "## Bar chart\n",
    "\n",
    "Bar chart is probably the most common type of chart. It displays a property or properties of a set of different entities. Bar chart is typically used to provide comparison, or to show contrast between different entities. For example, the bar chart below displays the GNP per capita of the three poorest and the three richest countries in the world (based on 2004 GNP per capita):"
   ]
  },
  {
   "cell_type": "markdown",
   "metadata": {},
   "source": [
    "Summarise data points over a categorical variable.\n",
    "* X-axis: categorical variable \n",
    "* Y-axis: numeric quantity"
   ]
  },
  {
   "cell_type": "markdown",
   "metadata": {},
   "source": [
    "Histograms:\n",
    "* X-axis is intervals of a numeric variable \n",
    "* Y-axis is the frequency or frequency-density \n",
    "* Only sensible to be ordered in one way\n",
    "\n",
    "Bar plots:\n",
    "* X-axis is a categorical variable \n",
    "* Y-axis is a numeric quantity \n",
    "* Can be in any order"
   ]
  },
  {
   "cell_type": "code",
   "execution_count": null,
   "metadata": {},
   "outputs": [],
   "source": [
    "%matplotlib inline\n",
    "import matplotlib.pyplot as plt\n",
    "import calendar\n",
    "from numpy import arange\n",
    "\n",
    "countries = ['Burundi','Ethiopia','Rep of Congo','Switzerland','Norway','Luxembourg']\n",
    "gnp = [90,110,110,49600,51810,56380] # GNP per capita (2004)\n",
    "plt.bar(arange(len(gnp)),gnp)\n",
    "plt.xticks( arange(len(countries)),countries, rotation=30)\n",
    "plt.show()"
   ]
  },
  {
   "cell_type": "markdown",
   "metadata": {},
   "source": [
    "### <span style=\"color:blue\"> Exercise 5 </span> \n",
    "\n",
    "\n",
    "Modify the bar chart example to plot the average maximum temperature in all major Australian cities. The data is available [here](data/max_temp.csv). \n"
   ]
  },
  {
   "cell_type": "code",
   "execution_count": null,
   "metadata": {},
   "outputs": [],
   "source": [
    "##answer here\n",
    "\n",
    "\n",
    "\n"
   ]
  },
  {
   "cell_type": "markdown",
   "metadata": {},
   "source": [
    "In a clustered bar chart, you can display a few measurements from the entities of interest. For example, the clustered bar chart below simultaneously shows the number of births and deaths in four countries of interest. The number of births is displayed as the blue-colored bar and the number of deaths as the red-colored bar:"
   ]
  },
  {
   "cell_type": "code",
   "execution_count": null,
   "metadata": {},
   "outputs": [],
   "source": [
    "%matplotlib inline\n",
    "import matplotlib.pyplot as plt\n",
    "import calendar\n",
    "from numpy import arange\n",
    "\n",
    "countries = ['Afghanistan', 'Albania', 'Algeria', 'Angola']\n",
    "births = [1143717, 53367, 598519, 498887]\n",
    "deaths = [529623, 16474, 144694, 285380]\n",
    "plt.bar(arange(len(births))-0.3, births, width=0.3)\n",
    "plt.bar(arange(len(deaths)),deaths, width=0.3,color='r')\n",
    "plt.xticks(arange(len(countries)),countries, rotation=30)"
   ]
  },
  {
   "cell_type": "markdown",
   "metadata": {},
   "source": [
    "## Histogram\n",
    "\n",
    "Histogram displays a distribution of population samples (typically a large set of data like digital images or age of population). The following example creates a histogram of age within a small number of samples (assumes these are the age of your classmates)."
   ]
  },
  {
   "cell_type": "markdown",
   "metadata": {},
   "source": [
    "* Frequency distribution of a set of continuous data points.\n",
    "* Inspect the underlying distribution (shape), is it normal? skewed? outliers?"
   ]
  },
  {
   "cell_type": "markdown",
   "metadata": {},
   "source": [
    "Histograms with equal-width bins is the Commonly used histograms\n",
    "\n",
    "* X-axis: Divide the range of values into consecutive, non-overlapping, and equal width intervals.\n",
    "* Y-axis: height proportional to the frequency of the bin"
   ]
  },
  {
   "attachments": {
    "image.png": {
     "image/png": "[encoded data removed]"
    }
   },
   "cell_type": "markdown",
   "metadata": {},
   "source": [
    "Histogram with variable-width bins\n",
    "\n",
    "* X-axis: Divide the range of values into consecutive, non-overlapping, and variable width intervals.\n",
    "* Y-axis: height proportional to frequency density—the number of cases per unit of the variable. The rectangle has its area proportional to the frequency\n",
    "\n",
    "![image.png](attachment:image.png)"
   ]
  },
  {
   "cell_type": "markdown",
   "metadata": {},
   "source": [
    "Histograms of the same dataset may look different with different bins selected.\n",
    "\n",
    "Problem: Hard to choose an appropriate bin size for histogram \n",
    "* Too small → normal objects in empty/rare bins, false positive\n",
    "* Too big → outliers in some frequent bins, false negative"
   ]
  },
  {
   "cell_type": "code",
   "execution_count": null,
   "metadata": {},
   "outputs": [],
   "source": [
    "%matplotlib inline\n",
    "import matplotlib.pyplot as plt\n",
    "\n",
    "\n",
    "ages = [17,18,18,19,21,19,19,21,20,23,19,22,20,21,19,19,14,23,16,17]\n",
    "plt.hist(ages, bins=10)\n",
    "plt.grid(which='major', axis='y')\n",
    "plt.show()"
   ]
  },
  {
   "cell_type": "markdown",
   "metadata": {},
   "source": [
    "### <span style=\"color:blue\"> Exercise 6 </span> \n",
    "\n",
    "\n",
    "Change the number of bins in the previous example to 20.\n",
    "Plot the histogram\n"
   ]
  },
  {
   "cell_type": "code",
   "execution_count": null,
   "metadata": {},
   "outputs": [],
   "source": []
  }
 ],
 "metadata": {
  "kernelspec": {
   "display_name": "Python 3",
   "language": "python",
   "name": "python3"
  },
  "language_info": {
   "codemirror_mode": {
    "name": "ipython",
    "version": 3
   },
   "file_extension": ".py",
   "mimetype": "text/x-python",
   "name": "python",
   "nbconvert_exporter": "python",
   "pygments_lexer": "ipython3",
   "version": "3.7.4"
  },
  "latex_envs": {
   "LaTeX_envs_menu_present": true,
   "autocomplete": true,
   "bibliofile": "biblio.bib",
   "cite_by": "apalike",
   "current_citInitial": 1,
   "eqLabelWithNumbers": true,
   "eqNumInitial": 1,
   "hotkeys": {
    "equation": "Ctrl-E",
    "itemize": "Ctrl-I"
   },
   "labels_anchors": false,
   "latex_user_defs": false,
   "report_style_numbering": false,
   "user_envs_cfg": false
  }
 },
 "nbformat": 4,
 "nbformat_minor": 4
}
