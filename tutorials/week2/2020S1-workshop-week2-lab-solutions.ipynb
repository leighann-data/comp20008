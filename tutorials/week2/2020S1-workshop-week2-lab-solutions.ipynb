{
 "cells": [
  {
   "cell_type": "markdown",
   "metadata": {},
   "source": [
    "# Elements Of Data Processing (2020S1) - Week 2\n"
   ]
  },
  {
   "cell_type": "markdown",
   "metadata": {},
   "source": [
    "# DataFrames\n",
    "\n",
    "DataFrames represents tabular data structure and can contain multiple rows and columns.  They can be thought of as a dictionary of Series objects, and are one of the most important data structures you will use to store and manipulate information in data science.\n",
    "\n",
    "A DataFrame has both row and column indices.\n",
    "\n",
    "The Pandas DataFrame structure contains many useful methods to aid your analysis.  Recall from week 1 the [API reference](https://pandas.pydata.org/pandas-docs/stable/reference/index.html) is available which details all of the functionality provided by pandas.  You will particularly need con consult the [DataFrame](https://pandas.pydata.org/pandas-docs/stable/reference/frame.html) reference page.\n",
    "\n",
    "\n",
    "<img src=\"images/DF.jpg\">\n"
   ]
  },
  {
   "cell_type": "code",
   "execution_count": 1,
   "metadata": {},
   "outputs": [],
   "source": [
    "# as before, begin by importing the pandas library\n",
    "import pandas as pd"
   ]
  },
  {
   "cell_type": "code",
   "execution_count": 2,
   "metadata": {},
   "outputs": [],
   "source": [
    "# create a new series of the population\n",
    "Aus_Population = {'1990':17065100, '2000':19153000, '2007':20827600,\n",
    "                 '2008':21249200,'2009':21691700,'2010':22031750,\n",
    "                 '2011':22340024, '2012':22728254, '2013':23117353}\n",
    "population = pd.Series(Aus_Population)"
   ]
  },
  {
   "cell_type": "code",
   "execution_count": 3,
   "metadata": {},
   "outputs": [],
   "source": [
    "# we will reuse the emissions data from last week\n",
    "Aus_Emission = {'1990':15.45288167, '2000':17.20060983, '2007':17.86526004,\n",
    "                '2008':18.16087566,'2009':18.20018196,'2010':16.92095367,\n",
    "                '2011':16.86260095, '2012':16.51938578, '2013':16.34730205}\n",
    "\n",
    "co2_Emission = pd.Series(Aus_Emission)"
   ]
  },
  {
   "cell_type": "code",
   "execution_count": 4,
   "metadata": {},
   "outputs": [
    {
     "data": {
      "text/plain": [
       "1990    17065100\n",
       "2000    19153000\n",
       "2007    20827600\n",
       "2008    21249200\n",
       "2009    21691700\n",
       "2010    22031750\n",
       "2011    22340024\n",
       "2012    22728254\n",
       "2013    23117353\n",
       "dtype: int64"
      ]
     },
     "execution_count": 4,
     "metadata": {},
     "output_type": "execute_result"
    }
   ],
   "source": [
    "# verify the values in the series\n",
    "population"
   ]
  },
  {
   "cell_type": "code",
   "execution_count": 5,
   "metadata": {},
   "outputs": [
    {
     "data": {
      "text/html": [
       "<div>\n",
       "<style scoped>\n",
       "    .dataframe tbody tr th:only-of-type {\n",
       "        vertical-align: middle;\n",
       "    }\n",
       "\n",
       "    .dataframe tbody tr th {\n",
       "        vertical-align: top;\n",
       "    }\n",
       "\n",
       "    .dataframe thead th {\n",
       "        text-align: right;\n",
       "    }\n",
       "</style>\n",
       "<table border=\"1\" class=\"dataframe\">\n",
       "  <thead>\n",
       "    <tr style=\"text-align: right;\">\n",
       "      <th></th>\n",
       "      <th>co2_emission</th>\n",
       "      <th>Population</th>\n",
       "    </tr>\n",
       "  </thead>\n",
       "  <tbody>\n",
       "    <tr>\n",
       "      <th>1990</th>\n",
       "      <td>15.452882</td>\n",
       "      <td>17065100</td>\n",
       "    </tr>\n",
       "    <tr>\n",
       "      <th>2000</th>\n",
       "      <td>17.200610</td>\n",
       "      <td>19153000</td>\n",
       "    </tr>\n",
       "    <tr>\n",
       "      <th>2007</th>\n",
       "      <td>17.865260</td>\n",
       "      <td>20827600</td>\n",
       "    </tr>\n",
       "    <tr>\n",
       "      <th>2008</th>\n",
       "      <td>18.160876</td>\n",
       "      <td>21249200</td>\n",
       "    </tr>\n",
       "    <tr>\n",
       "      <th>2009</th>\n",
       "      <td>18.200182</td>\n",
       "      <td>21691700</td>\n",
       "    </tr>\n",
       "    <tr>\n",
       "      <th>2010</th>\n",
       "      <td>16.920954</td>\n",
       "      <td>22031750</td>\n",
       "    </tr>\n",
       "    <tr>\n",
       "      <th>2011</th>\n",
       "      <td>16.862601</td>\n",
       "      <td>22340024</td>\n",
       "    </tr>\n",
       "    <tr>\n",
       "      <th>2012</th>\n",
       "      <td>16.519386</td>\n",
       "      <td>22728254</td>\n",
       "    </tr>\n",
       "    <tr>\n",
       "      <th>2013</th>\n",
       "      <td>16.347302</td>\n",
       "      <td>23117353</td>\n",
       "    </tr>\n",
       "  </tbody>\n",
       "</table>\n",
       "</div>"
      ],
      "text/plain": [
       "      co2_emission  Population\n",
       "1990     15.452882    17065100\n",
       "2000     17.200610    19153000\n",
       "2007     17.865260    20827600\n",
       "2008     18.160876    21249200\n",
       "2009     18.200182    21691700\n",
       "2010     16.920954    22031750\n",
       "2011     16.862601    22340024\n",
       "2012     16.519386    22728254\n",
       "2013     16.347302    23117353"
      ]
     },
     "execution_count": 5,
     "metadata": {},
     "output_type": "execute_result"
    }
   ],
   "source": [
    "# create a DataFrame object from the series objects\n",
    "australia = pd.DataFrame({'co2_emission':co2_Emission, 'Population':population})\n",
    "australia"
   ]
  },
  {
   "cell_type": "code",
   "execution_count": 6,
   "metadata": {},
   "outputs": [],
   "source": [
    "# create a DataFrame from a csv file\n",
    "countries = pd.read_csv('data/countries.csv',encoding = 'ISO-8859-1')"
   ]
  },
  {
   "cell_type": "code",
   "execution_count": 7,
   "metadata": {},
   "outputs": [
    {
     "data": {
      "text/html": [
       "<div>\n",
       "<style scoped>\n",
       "    .dataframe tbody tr th:only-of-type {\n",
       "        vertical-align: middle;\n",
       "    }\n",
       "\n",
       "    .dataframe tbody tr th {\n",
       "        vertical-align: top;\n",
       "    }\n",
       "\n",
       "    .dataframe thead th {\n",
       "        text-align: right;\n",
       "    }\n",
       "</style>\n",
       "<table border=\"1\" class=\"dataframe\">\n",
       "  <thead>\n",
       "    <tr style=\"text-align: right;\">\n",
       "      <th></th>\n",
       "      <th>Country</th>\n",
       "      <th>Region</th>\n",
       "      <th>IncomeGroup</th>\n",
       "    </tr>\n",
       "  </thead>\n",
       "  <tbody>\n",
       "    <tr>\n",
       "      <th>0</th>\n",
       "      <td>Afghanistan</td>\n",
       "      <td>South Asia</td>\n",
       "      <td>Low income</td>\n",
       "    </tr>\n",
       "    <tr>\n",
       "      <th>1</th>\n",
       "      <td>Albania</td>\n",
       "      <td>Europe &amp; Central Asia</td>\n",
       "      <td>Upper middle income</td>\n",
       "    </tr>\n",
       "    <tr>\n",
       "      <th>2</th>\n",
       "      <td>Algeria</td>\n",
       "      <td>Middle East &amp; North Africa</td>\n",
       "      <td>Upper middle income</td>\n",
       "    </tr>\n",
       "    <tr>\n",
       "      <th>3</th>\n",
       "      <td>American Samoa</td>\n",
       "      <td>East Asia &amp; Pacific</td>\n",
       "      <td>Upper middle income</td>\n",
       "    </tr>\n",
       "    <tr>\n",
       "      <th>4</th>\n",
       "      <td>Andorra</td>\n",
       "      <td>Europe &amp; Central Asia</td>\n",
       "      <td>High income</td>\n",
       "    </tr>\n",
       "    <tr>\n",
       "      <th>5</th>\n",
       "      <td>Angola</td>\n",
       "      <td>Sub-Saharan Africa</td>\n",
       "      <td>Upper middle income</td>\n",
       "    </tr>\n",
       "    <tr>\n",
       "      <th>6</th>\n",
       "      <td>Antigua and Barbuda</td>\n",
       "      <td>Latin America &amp; Caribbean</td>\n",
       "      <td>High income</td>\n",
       "    </tr>\n",
       "    <tr>\n",
       "      <th>7</th>\n",
       "      <td>Argentina</td>\n",
       "      <td>Latin America &amp; Caribbean</td>\n",
       "      <td>Upper middle income</td>\n",
       "    </tr>\n",
       "    <tr>\n",
       "      <th>8</th>\n",
       "      <td>Armenia</td>\n",
       "      <td>Europe &amp; Central Asia</td>\n",
       "      <td>Lower middle income</td>\n",
       "    </tr>\n",
       "    <tr>\n",
       "      <th>9</th>\n",
       "      <td>Aruba</td>\n",
       "      <td>Latin America &amp; Caribbean</td>\n",
       "      <td>High income</td>\n",
       "    </tr>\n",
       "  </tbody>\n",
       "</table>\n",
       "</div>"
      ],
      "text/plain": [
       "               Country                      Region          IncomeGroup\n",
       "0          Afghanistan                  South Asia           Low income\n",
       "1              Albania       Europe & Central Asia  Upper middle income\n",
       "2              Algeria  Middle East & North Africa  Upper middle income\n",
       "3       American Samoa         East Asia & Pacific  Upper middle income\n",
       "4              Andorra       Europe & Central Asia          High income\n",
       "5               Angola          Sub-Saharan Africa  Upper middle income\n",
       "6  Antigua and Barbuda   Latin America & Caribbean          High income\n",
       "7            Argentina   Latin America & Caribbean  Upper middle income\n",
       "8              Armenia       Europe & Central Asia  Lower middle income\n",
       "9                Aruba   Latin America & Caribbean          High income"
      ]
     },
     "execution_count": 7,
     "metadata": {},
     "output_type": "execute_result"
    }
   ],
   "source": [
    "# check the top 10 countries in the DataFrame\n",
    "countries.head(10) # the default value is set to 5"
   ]
  },
  {
   "cell_type": "code",
   "execution_count": 8,
   "metadata": {},
   "outputs": [
    {
     "data": {
      "text/plain": [
       "Europe & Central Asia         58\n",
       "Sub-Saharan Africa            48\n",
       "Latin America & Caribbean     42\n",
       "East Asia & Pacific           37\n",
       "Middle East & North Africa    21\n",
       "South Asia                     8\n",
       "North America                  3\n",
       "Name: Region, dtype: int64"
      ]
     },
     "execution_count": 8,
     "metadata": {},
     "output_type": "execute_result"
    }
   ],
   "source": [
    "# count the number of countries in each region\n",
    "countries.Region.value_counts()"
   ]
  },
  {
   "cell_type": "code",
   "execution_count": 9,
   "metadata": {},
   "outputs": [
    {
     "data": {
      "text/html": [
       "<div>\n",
       "<style scoped>\n",
       "    .dataframe tbody tr th:only-of-type {\n",
       "        vertical-align: middle;\n",
       "    }\n",
       "\n",
       "    .dataframe tbody tr th {\n",
       "        vertical-align: top;\n",
       "    }\n",
       "\n",
       "    .dataframe thead th {\n",
       "        text-align: right;\n",
       "    }\n",
       "</style>\n",
       "<table border=\"1\" class=\"dataframe\">\n",
       "  <thead>\n",
       "    <tr style=\"text-align: right;\">\n",
       "      <th></th>\n",
       "      <th>Region</th>\n",
       "      <th>IncomeGroup</th>\n",
       "    </tr>\n",
       "    <tr>\n",
       "      <th>Country</th>\n",
       "      <th></th>\n",
       "      <th></th>\n",
       "    </tr>\n",
       "  </thead>\n",
       "  <tbody>\n",
       "    <tr>\n",
       "      <th>Afghanistan</th>\n",
       "      <td>South Asia</td>\n",
       "      <td>Low income</td>\n",
       "    </tr>\n",
       "    <tr>\n",
       "      <th>Albania</th>\n",
       "      <td>Europe &amp; Central Asia</td>\n",
       "      <td>Upper middle income</td>\n",
       "    </tr>\n",
       "    <tr>\n",
       "      <th>Algeria</th>\n",
       "      <td>Middle East &amp; North Africa</td>\n",
       "      <td>Upper middle income</td>\n",
       "    </tr>\n",
       "    <tr>\n",
       "      <th>American Samoa</th>\n",
       "      <td>East Asia &amp; Pacific</td>\n",
       "      <td>Upper middle income</td>\n",
       "    </tr>\n",
       "    <tr>\n",
       "      <th>Andorra</th>\n",
       "      <td>Europe &amp; Central Asia</td>\n",
       "      <td>High income</td>\n",
       "    </tr>\n",
       "    <tr>\n",
       "      <th>...</th>\n",
       "      <td>...</td>\n",
       "      <td>...</td>\n",
       "    </tr>\n",
       "    <tr>\n",
       "      <th>Virgin Islands (U.S.)</th>\n",
       "      <td>Latin America &amp; Caribbean</td>\n",
       "      <td>High income</td>\n",
       "    </tr>\n",
       "    <tr>\n",
       "      <th>West Bank and Gaza</th>\n",
       "      <td>Middle East &amp; North Africa</td>\n",
       "      <td>Lower middle income</td>\n",
       "    </tr>\n",
       "    <tr>\n",
       "      <th>Yemen, Rep.</th>\n",
       "      <td>Middle East &amp; North Africa</td>\n",
       "      <td>Lower middle income</td>\n",
       "    </tr>\n",
       "    <tr>\n",
       "      <th>Zambia</th>\n",
       "      <td>Sub-Saharan Africa</td>\n",
       "      <td>Lower middle income</td>\n",
       "    </tr>\n",
       "    <tr>\n",
       "      <th>Zimbabwe</th>\n",
       "      <td>Sub-Saharan Africa</td>\n",
       "      <td>Low income</td>\n",
       "    </tr>\n",
       "  </tbody>\n",
       "</table>\n",
       "<p>217 rows × 2 columns</p>\n",
       "</div>"
      ],
      "text/plain": [
       "                                           Region          IncomeGroup\n",
       "Country                                                               \n",
       "Afghanistan                            South Asia           Low income\n",
       "Albania                     Europe & Central Asia  Upper middle income\n",
       "Algeria                Middle East & North Africa  Upper middle income\n",
       "American Samoa                East Asia & Pacific  Upper middle income\n",
       "Andorra                     Europe & Central Asia          High income\n",
       "...                                           ...                  ...\n",
       "Virgin Islands (U.S.)   Latin America & Caribbean          High income\n",
       "West Bank and Gaza     Middle East & North Africa  Lower middle income\n",
       "Yemen, Rep.            Middle East & North Africa  Lower middle income\n",
       "Zambia                         Sub-Saharan Africa  Lower middle income\n",
       "Zimbabwe                       Sub-Saharan Africa           Low income\n",
       "\n",
       "[217 rows x 2 columns]"
      ]
     },
     "execution_count": 9,
     "metadata": {},
     "output_type": "execute_result"
    }
   ],
   "source": [
    "# set the name of countries as the index\n",
    "countries.set_index('Country')\n"
   ]
  },
  {
   "cell_type": "code",
   "execution_count": 10,
   "metadata": {},
   "outputs": [],
   "source": [
    "# create a new DataFrame for the CO2 emission from a csv file\n",
    "emission = pd.read_csv('data/emission.csv',encoding = 'ISO-8859-1')\n",
    "#emission.head()"
   ]
  },
  {
   "cell_type": "code",
   "execution_count": 11,
   "metadata": {},
   "outputs": [
    {
     "data": {
      "text/plain": [
       "pandas.core.series.Series"
      ]
     },
     "execution_count": 11,
     "metadata": {},
     "output_type": "execute_result"
    }
   ],
   "source": [
    "# Create a subset of emission dataset for Year 2010\n",
    "yr2010 = emission['2010']\n",
    "names  = emission['Country']\n",
    "yr2010.index = names\n",
    "type(yr2010)"
   ]
  },
  {
   "cell_type": "code",
   "execution_count": 12,
   "metadata": {},
   "outputs": [
    {
     "data": {
      "text/plain": [
       "Country\n",
       "Burundi                      0.022480\n",
       "Congo, Dem. Rep.             0.030197\n",
       "Chad                         0.043463\n",
       "Rwanda                       0.057354\n",
       "Central African Republic     0.059398\n",
       "                               ...   \n",
       "Sint Maarten (Dutch part)         NaN\n",
       "South Sudan                       NaN\n",
       "St. Martin (French part)          NaN\n",
       "Tuvalu                            NaN\n",
       "Virgin Islands (U.S.)             NaN\n",
       "Name: 2010, Length: 217, dtype: float64"
      ]
     },
     "execution_count": 12,
     "metadata": {},
     "output_type": "execute_result"
    }
   ],
   "source": [
    "# Sort column values using sort_values \n",
    "yr2010.sort_values()\n"
   ]
  },
  {
   "cell_type": "code",
   "execution_count": 13,
   "metadata": {},
   "outputs": [
    {
     "data": {
      "text/plain": [
       "Country\n",
       "Qatar                        41.131162\n",
       "Trinidad and Tobago          36.073741\n",
       "Kuwait                       29.294309\n",
       "Aruba                        24.182702\n",
       "Bahrain                      23.101200\n",
       "                               ...    \n",
       "Sint Maarten (Dutch part)          NaN\n",
       "South Sudan                        NaN\n",
       "St. Martin (French part)           NaN\n",
       "Tuvalu                             NaN\n",
       "Virgin Islands (U.S.)              NaN\n",
       "Name: 2010, Length: 217, dtype: float64"
      ]
     },
     "execution_count": 13,
     "metadata": {},
     "output_type": "execute_result"
    }
   ],
   "source": [
    "#Sort column values to find the top countries\n",
    "yr2010.sort_values(ascending = False)"
   ]
  },
  {
   "cell_type": "markdown",
   "metadata": {},
   "source": [
    "### <span style=\"color:blue\"> Exercise 1 </span>\n",
    "\n",
    "- Retrieve the mean, median of CO2 emission generated in 2012 by all countries.\n",
    "- Retrieve the top 5 countries with the most CO2 emission in 2012. How about the 5 countries with the least emission? (remember that sort_values has an **ascending** parameter that is set to True by default).\n",
    "- Retrieve the sum of CO2 emission for all years and find the 2 years with the maximum CO2 emission.\n",
    "\n",
    "\n",
    "\n"
   ]
  },
  {
   "cell_type": "code",
   "execution_count": 14,
   "metadata": {},
   "outputs": [
    {
     "data": {
      "text/plain": [
       "pandas.core.series.Series"
      ]
     },
     "execution_count": 14,
     "metadata": {},
     "output_type": "execute_result"
    }
   ],
   "source": [
    "##answer here\n",
    "# CO2 emission generated in 2012 by all countries\n",
    "yr2012 = emission['2012']\n",
    "yr2012.index = names\n",
    "type(yr2012)\n"
   ]
  },
  {
   "cell_type": "code",
   "execution_count": 15,
   "metadata": {},
   "outputs": [
    {
     "data": {
      "text/plain": [
       "5.161476912617647"
      ]
     },
     "execution_count": 15,
     "metadata": {},
     "output_type": "execute_result"
    }
   ],
   "source": [
    "# mean\n",
    "yr2012.mean()"
   ]
  },
  {
   "cell_type": "code",
   "execution_count": 16,
   "metadata": {},
   "outputs": [
    {
     "data": {
      "text/plain": [
       "2.7530064495"
      ]
     },
     "execution_count": 16,
     "metadata": {},
     "output_type": "execute_result"
    }
   ],
   "source": [
    "# median\n",
    "yr2012.median()"
   ]
  },
  {
   "cell_type": "code",
   "execution_count": 17,
   "metadata": {},
   "outputs": [
    {
     "data": {
      "text/plain": [
       "Country\n",
       "Qatar                  46.697477\n",
       "Curacao                39.638551\n",
       "Trinidad and Tobago    33.819694\n",
       "Kuwait                 29.578729\n",
       "Brunei Darussalam      23.800884\n",
       "Name: 2012, dtype: float64"
      ]
     },
     "execution_count": 17,
     "metadata": {},
     "output_type": "execute_result"
    }
   ],
   "source": [
    "# top 5 CO2 emitting countries\n",
    "sorted2012 = yr2012.sort_values(ascending=False)\n",
    "top5 = sorted2012[:5]\n",
    "top5"
   ]
  },
  {
   "cell_type": "code",
   "execution_count": 18,
   "metadata": {},
   "outputs": [
    {
     "data": {
      "text/plain": [
       "Country\n",
       "Burundi                     0.027888\n",
       "Congo, Dem. Rep.            0.036414\n",
       "Chad                        0.042682\n",
       "Mali                        0.061677\n",
       "Central African Republic    0.063505\n",
       "Name: 2012, dtype: float64"
      ]
     },
     "execution_count": 18,
     "metadata": {},
     "output_type": "execute_result"
    }
   ],
   "source": [
    "# least CO2 emitting countries\n",
    "sorted2012 = yr2012.sort_values()\n",
    "least5 = sorted2012[:5]\n",
    "least5"
   ]
  },
  {
   "cell_type": "code",
   "execution_count": 19,
   "metadata": {},
   "outputs": [
    {
     "data": {
      "text/plain": [
       "2012    1052.94\n",
       "2007    1025.98\n",
       "dtype: object"
      ]
     },
     "execution_count": 19,
     "metadata": {},
     "output_type": "execute_result"
    }
   ],
   "source": [
    "res = emission.sum()[1:] # columns To ignore header\n",
    "res.sort_values(ascending=False)[:2]\n",
    "\n",
    "#emission_T= emission.transpose()\n",
    "#res = res.astype(float)\n",
    "#emission_T.sum(axis=1) # rows\n",
    "#emission_T.index"
   ]
  },
  {
   "cell_type": "code",
   "execution_count": 20,
   "metadata": {},
   "outputs": [
    {
     "data": {
      "text/plain": [
       "[734.2376925839999,\n",
       " 936.682642449,\n",
       " 1025.9772624969999,\n",
       " 1023.5284745380001,\n",
       " 975.0620494310001,\n",
       " 1010.472087137,\n",
       " 998.0177672359998,\n",
       " 1052.941290174,\n",
       " 1024.685642681,\n",
       " 0.0,\n",
       " 0.0,\n",
       " 0.0]"
      ]
     },
     "execution_count": 20,
     "metadata": {},
     "output_type": "execute_result"
    }
   ],
   "source": [
    "# another solution for the 3rd sub-question\n",
    "# list comprehension to find the sum of CO2 emission\n",
    "year = ['1990','2000','2007','2008','2009','2010','2011','2012','2013','2014','2015','2016']\n",
    "sum_per_year = [emission[y].sum() for y in year]\n",
    "sum_per_year"
   ]
  },
  {
   "cell_type": "code",
   "execution_count": 21,
   "metadata": {},
   "outputs": [
    {
     "data": {
      "text/plain": [
       "2012    1052.941290\n",
       "2007    1025.977262\n",
       "dtype: float64"
      ]
     },
     "execution_count": 21,
     "metadata": {},
     "output_type": "execute_result"
    }
   ],
   "source": [
    "# create a series object of the sum and sort the values\n",
    "s = pd.Series(sum_per_year, index= year)\n",
    "s.sort_values(ascending=False)[:2]"
   ]
  },
  {
   "cell_type": "markdown",
   "metadata": {},
   "source": [
    "# More Sort Operations\n",
    "Pandas allows you to sort your DataFrame by rows/columns as follows:"
   ]
  },
  {
   "cell_type": "code",
   "execution_count": 22,
   "metadata": {},
   "outputs": [
    {
     "data": {
      "text/html": [
       "<div>\n",
       "<style scoped>\n",
       "    .dataframe tbody tr th:only-of-type {\n",
       "        vertical-align: middle;\n",
       "    }\n",
       "\n",
       "    .dataframe tbody tr th {\n",
       "        vertical-align: top;\n",
       "    }\n",
       "\n",
       "    .dataframe thead th {\n",
       "        text-align: right;\n",
       "    }\n",
       "</style>\n",
       "<table border=\"1\" class=\"dataframe\">\n",
       "  <thead>\n",
       "    <tr style=\"text-align: right;\">\n",
       "      <th></th>\n",
       "      <th>Country</th>\n",
       "      <th>1990</th>\n",
       "      <th>2000</th>\n",
       "      <th>2007</th>\n",
       "      <th>2008</th>\n",
       "      <th>2009</th>\n",
       "      <th>2010</th>\n",
       "      <th>2011</th>\n",
       "      <th>2012</th>\n",
       "      <th>2013</th>\n",
       "      <th>2014</th>\n",
       "      <th>2015</th>\n",
       "      <th>2016</th>\n",
       "    </tr>\n",
       "  </thead>\n",
       "  <tbody>\n",
       "    <tr>\n",
       "      <th>158</th>\n",
       "      <td>Qatar</td>\n",
       "      <td>24.712027</td>\n",
       "      <td>58.522169</td>\n",
       "      <td>53.672746</td>\n",
       "      <td>46.684906</td>\n",
       "      <td>43.504331</td>\n",
       "      <td>41.131162</td>\n",
       "      <td>42.213752</td>\n",
       "      <td>46.697477</td>\n",
       "      <td>40.462355</td>\n",
       "      <td>NaN</td>\n",
       "      <td>NaN</td>\n",
       "      <td>NaN</td>\n",
       "    </tr>\n",
       "    <tr>\n",
       "      <th>50</th>\n",
       "      <td>Curacao</td>\n",
       "      <td>NaN</td>\n",
       "      <td>NaN</td>\n",
       "      <td>NaN</td>\n",
       "      <td>NaN</td>\n",
       "      <td>NaN</td>\n",
       "      <td>NaN</td>\n",
       "      <td>NaN</td>\n",
       "      <td>39.638551</td>\n",
       "      <td>34.161635</td>\n",
       "      <td>NaN</td>\n",
       "      <td>NaN</td>\n",
       "      <td>NaN</td>\n",
       "    </tr>\n",
       "    <tr>\n",
       "      <th>196</th>\n",
       "      <td>Trinidad and Tobago</td>\n",
       "      <td>13.879875</td>\n",
       "      <td>18.844281</td>\n",
       "      <td>36.816763</td>\n",
       "      <td>35.455298</td>\n",
       "      <td>33.952984</td>\n",
       "      <td>36.073741</td>\n",
       "      <td>35.137310</td>\n",
       "      <td>33.819694</td>\n",
       "      <td>34.520237</td>\n",
       "      <td>NaN</td>\n",
       "      <td>NaN</td>\n",
       "      <td>NaN</td>\n",
       "    </tr>\n",
       "    <tr>\n",
       "      <th>105</th>\n",
       "      <td>Kuwait</td>\n",
       "      <td>23.466084</td>\n",
       "      <td>27.759023</td>\n",
       "      <td>29.636849</td>\n",
       "      <td>30.581264</td>\n",
       "      <td>30.300789</td>\n",
       "      <td>29.294309</td>\n",
       "      <td>28.102662</td>\n",
       "      <td>29.578729</td>\n",
       "      <td>27.258964</td>\n",
       "      <td>NaN</td>\n",
       "      <td>NaN</td>\n",
       "      <td>NaN</td>\n",
       "    </tr>\n",
       "    <tr>\n",
       "      <th>28</th>\n",
       "      <td>Brunei Darussalam</td>\n",
       "      <td>24.105188</td>\n",
       "      <td>14.255144</td>\n",
       "      <td>22.474463</td>\n",
       "      <td>23.950011</td>\n",
       "      <td>20.311171</td>\n",
       "      <td>20.856947</td>\n",
       "      <td>24.272670</td>\n",
       "      <td>23.800884</td>\n",
       "      <td>18.918736</td>\n",
       "      <td>NaN</td>\n",
       "      <td>NaN</td>\n",
       "      <td>NaN</td>\n",
       "    </tr>\n",
       "    <tr>\n",
       "      <th>...</th>\n",
       "      <td>...</td>\n",
       "      <td>...</td>\n",
       "      <td>...</td>\n",
       "      <td>...</td>\n",
       "      <td>...</td>\n",
       "      <td>...</td>\n",
       "      <td>...</td>\n",
       "      <td>...</td>\n",
       "      <td>...</td>\n",
       "      <td>...</td>\n",
       "      <td>...</td>\n",
       "      <td>...</td>\n",
       "      <td>...</td>\n",
       "    </tr>\n",
       "    <tr>\n",
       "      <th>157</th>\n",
       "      <td>Puerto Rico</td>\n",
       "      <td>NaN</td>\n",
       "      <td>NaN</td>\n",
       "      <td>NaN</td>\n",
       "      <td>NaN</td>\n",
       "      <td>NaN</td>\n",
       "      <td>NaN</td>\n",
       "      <td>NaN</td>\n",
       "      <td>NaN</td>\n",
       "      <td>NaN</td>\n",
       "      <td>NaN</td>\n",
       "      <td>NaN</td>\n",
       "      <td>NaN</td>\n",
       "    </tr>\n",
       "    <tr>\n",
       "      <th>163</th>\n",
       "      <td>San Marino</td>\n",
       "      <td>NaN</td>\n",
       "      <td>NaN</td>\n",
       "      <td>NaN</td>\n",
       "      <td>NaN</td>\n",
       "      <td>NaN</td>\n",
       "      <td>NaN</td>\n",
       "      <td>NaN</td>\n",
       "      <td>NaN</td>\n",
       "      <td>NaN</td>\n",
       "      <td>NaN</td>\n",
       "      <td>NaN</td>\n",
       "      <td>NaN</td>\n",
       "    </tr>\n",
       "    <tr>\n",
       "      <th>182</th>\n",
       "      <td>St. Martin (French part)</td>\n",
       "      <td>NaN</td>\n",
       "      <td>NaN</td>\n",
       "      <td>NaN</td>\n",
       "      <td>NaN</td>\n",
       "      <td>NaN</td>\n",
       "      <td>NaN</td>\n",
       "      <td>NaN</td>\n",
       "      <td>NaN</td>\n",
       "      <td>NaN</td>\n",
       "      <td>NaN</td>\n",
       "      <td>NaN</td>\n",
       "      <td>NaN</td>\n",
       "    </tr>\n",
       "    <tr>\n",
       "      <th>201</th>\n",
       "      <td>Tuvalu</td>\n",
       "      <td>NaN</td>\n",
       "      <td>NaN</td>\n",
       "      <td>NaN</td>\n",
       "      <td>NaN</td>\n",
       "      <td>NaN</td>\n",
       "      <td>NaN</td>\n",
       "      <td>NaN</td>\n",
       "      <td>NaN</td>\n",
       "      <td>NaN</td>\n",
       "      <td>NaN</td>\n",
       "      <td>NaN</td>\n",
       "      <td>NaN</td>\n",
       "    </tr>\n",
       "    <tr>\n",
       "      <th>212</th>\n",
       "      <td>Virgin Islands (U.S.)</td>\n",
       "      <td>NaN</td>\n",
       "      <td>NaN</td>\n",
       "      <td>NaN</td>\n",
       "      <td>NaN</td>\n",
       "      <td>NaN</td>\n",
       "      <td>NaN</td>\n",
       "      <td>NaN</td>\n",
       "      <td>NaN</td>\n",
       "      <td>NaN</td>\n",
       "      <td>NaN</td>\n",
       "      <td>NaN</td>\n",
       "      <td>NaN</td>\n",
       "    </tr>\n",
       "  </tbody>\n",
       "</table>\n",
       "<p>217 rows × 13 columns</p>\n",
       "</div>"
      ],
      "text/plain": [
       "                      Country       1990       2000       2007       2008  \\\n",
       "158                     Qatar  24.712027  58.522169  53.672746  46.684906   \n",
       "50                    Curacao        NaN        NaN        NaN        NaN   \n",
       "196       Trinidad and Tobago  13.879875  18.844281  36.816763  35.455298   \n",
       "105                    Kuwait  23.466084  27.759023  29.636849  30.581264   \n",
       "28          Brunei Darussalam  24.105188  14.255144  22.474463  23.950011   \n",
       "..                        ...        ...        ...        ...        ...   \n",
       "157               Puerto Rico        NaN        NaN        NaN        NaN   \n",
       "163                San Marino        NaN        NaN        NaN        NaN   \n",
       "182  St. Martin (French part)        NaN        NaN        NaN        NaN   \n",
       "201                    Tuvalu        NaN        NaN        NaN        NaN   \n",
       "212     Virgin Islands (U.S.)        NaN        NaN        NaN        NaN   \n",
       "\n",
       "          2009       2010       2011       2012       2013  2014  2015  2016  \n",
       "158  43.504331  41.131162  42.213752  46.697477  40.462355   NaN   NaN   NaN  \n",
       "50         NaN        NaN        NaN  39.638551  34.161635   NaN   NaN   NaN  \n",
       "196  33.952984  36.073741  35.137310  33.819694  34.520237   NaN   NaN   NaN  \n",
       "105  30.300789  29.294309  28.102662  29.578729  27.258964   NaN   NaN   NaN  \n",
       "28   20.311171  20.856947  24.272670  23.800884  18.918736   NaN   NaN   NaN  \n",
       "..         ...        ...        ...        ...        ...   ...   ...   ...  \n",
       "157        NaN        NaN        NaN        NaN        NaN   NaN   NaN   NaN  \n",
       "163        NaN        NaN        NaN        NaN        NaN   NaN   NaN   NaN  \n",
       "182        NaN        NaN        NaN        NaN        NaN   NaN   NaN   NaN  \n",
       "201        NaN        NaN        NaN        NaN        NaN   NaN   NaN   NaN  \n",
       "212        NaN        NaN        NaN        NaN        NaN   NaN   NaN   NaN  \n",
       "\n",
       "[217 rows x 13 columns]"
      ]
     },
     "execution_count": 22,
     "metadata": {},
     "output_type": "execute_result"
    }
   ],
   "source": [
    "# Sort column values of a DataFrame\n",
    "sorted2012 = emission.sort_values( by = '2012',ascending = False )\n",
    "sorted2012"
   ]
  },
  {
   "cell_type": "code",
   "execution_count": 23,
   "metadata": {},
   "outputs": [
    {
     "data": {
      "text/html": [
       "<div>\n",
       "<style scoped>\n",
       "    .dataframe tbody tr th:only-of-type {\n",
       "        vertical-align: middle;\n",
       "    }\n",
       "\n",
       "    .dataframe tbody tr th {\n",
       "        vertical-align: top;\n",
       "    }\n",
       "\n",
       "    .dataframe thead th {\n",
       "        text-align: right;\n",
       "    }\n",
       "</style>\n",
       "<table border=\"1\" class=\"dataframe\">\n",
       "  <thead>\n",
       "    <tr style=\"text-align: right;\">\n",
       "      <th></th>\n",
       "      <th>Country</th>\n",
       "      <th>1990</th>\n",
       "      <th>2000</th>\n",
       "      <th>2007</th>\n",
       "      <th>2008</th>\n",
       "      <th>2009</th>\n",
       "      <th>2010</th>\n",
       "      <th>2011</th>\n",
       "      <th>2012</th>\n",
       "      <th>2013</th>\n",
       "      <th>2014</th>\n",
       "      <th>2015</th>\n",
       "      <th>2016</th>\n",
       "    </tr>\n",
       "  </thead>\n",
       "  <tbody>\n",
       "    <tr>\n",
       "      <th>158</th>\n",
       "      <td>Qatar</td>\n",
       "      <td>24.712027</td>\n",
       "      <td>58.522169</td>\n",
       "      <td>53.672746</td>\n",
       "      <td>46.684906</td>\n",
       "      <td>43.504331</td>\n",
       "      <td>41.131162</td>\n",
       "      <td>42.213752</td>\n",
       "      <td>46.697477</td>\n",
       "      <td>40.462355</td>\n",
       "      <td>NaN</td>\n",
       "      <td>NaN</td>\n",
       "      <td>NaN</td>\n",
       "    </tr>\n",
       "    <tr>\n",
       "      <th>50</th>\n",
       "      <td>Curacao</td>\n",
       "      <td>NaN</td>\n",
       "      <td>NaN</td>\n",
       "      <td>NaN</td>\n",
       "      <td>NaN</td>\n",
       "      <td>NaN</td>\n",
       "      <td>NaN</td>\n",
       "      <td>NaN</td>\n",
       "      <td>39.638551</td>\n",
       "      <td>34.161635</td>\n",
       "      <td>NaN</td>\n",
       "      <td>NaN</td>\n",
       "      <td>NaN</td>\n",
       "    </tr>\n",
       "    <tr>\n",
       "      <th>196</th>\n",
       "      <td>Trinidad and Tobago</td>\n",
       "      <td>13.879875</td>\n",
       "      <td>18.844281</td>\n",
       "      <td>36.816763</td>\n",
       "      <td>35.455298</td>\n",
       "      <td>33.952984</td>\n",
       "      <td>36.073741</td>\n",
       "      <td>35.137310</td>\n",
       "      <td>33.819694</td>\n",
       "      <td>34.520237</td>\n",
       "      <td>NaN</td>\n",
       "      <td>NaN</td>\n",
       "      <td>NaN</td>\n",
       "    </tr>\n",
       "    <tr>\n",
       "      <th>105</th>\n",
       "      <td>Kuwait</td>\n",
       "      <td>23.466084</td>\n",
       "      <td>27.759023</td>\n",
       "      <td>29.636849</td>\n",
       "      <td>30.581264</td>\n",
       "      <td>30.300789</td>\n",
       "      <td>29.294309</td>\n",
       "      <td>28.102662</td>\n",
       "      <td>29.578729</td>\n",
       "      <td>27.258964</td>\n",
       "      <td>NaN</td>\n",
       "      <td>NaN</td>\n",
       "      <td>NaN</td>\n",
       "    </tr>\n",
       "    <tr>\n",
       "      <th>28</th>\n",
       "      <td>Brunei Darussalam</td>\n",
       "      <td>24.105188</td>\n",
       "      <td>14.255144</td>\n",
       "      <td>22.474463</td>\n",
       "      <td>23.950011</td>\n",
       "      <td>20.311171</td>\n",
       "      <td>20.856947</td>\n",
       "      <td>24.272670</td>\n",
       "      <td>23.800884</td>\n",
       "      <td>18.918736</td>\n",
       "      <td>NaN</td>\n",
       "      <td>NaN</td>\n",
       "      <td>NaN</td>\n",
       "    </tr>\n",
       "    <tr>\n",
       "      <th>...</th>\n",
       "      <td>...</td>\n",
       "      <td>...</td>\n",
       "      <td>...</td>\n",
       "      <td>...</td>\n",
       "      <td>...</td>\n",
       "      <td>...</td>\n",
       "      <td>...</td>\n",
       "      <td>...</td>\n",
       "      <td>...</td>\n",
       "      <td>...</td>\n",
       "      <td>...</td>\n",
       "      <td>...</td>\n",
       "      <td>...</td>\n",
       "    </tr>\n",
       "    <tr>\n",
       "      <th>157</th>\n",
       "      <td>Puerto Rico</td>\n",
       "      <td>NaN</td>\n",
       "      <td>NaN</td>\n",
       "      <td>NaN</td>\n",
       "      <td>NaN</td>\n",
       "      <td>NaN</td>\n",
       "      <td>NaN</td>\n",
       "      <td>NaN</td>\n",
       "      <td>NaN</td>\n",
       "      <td>NaN</td>\n",
       "      <td>NaN</td>\n",
       "      <td>NaN</td>\n",
       "      <td>NaN</td>\n",
       "    </tr>\n",
       "    <tr>\n",
       "      <th>163</th>\n",
       "      <td>San Marino</td>\n",
       "      <td>NaN</td>\n",
       "      <td>NaN</td>\n",
       "      <td>NaN</td>\n",
       "      <td>NaN</td>\n",
       "      <td>NaN</td>\n",
       "      <td>NaN</td>\n",
       "      <td>NaN</td>\n",
       "      <td>NaN</td>\n",
       "      <td>NaN</td>\n",
       "      <td>NaN</td>\n",
       "      <td>NaN</td>\n",
       "      <td>NaN</td>\n",
       "    </tr>\n",
       "    <tr>\n",
       "      <th>182</th>\n",
       "      <td>St. Martin (French part)</td>\n",
       "      <td>NaN</td>\n",
       "      <td>NaN</td>\n",
       "      <td>NaN</td>\n",
       "      <td>NaN</td>\n",
       "      <td>NaN</td>\n",
       "      <td>NaN</td>\n",
       "      <td>NaN</td>\n",
       "      <td>NaN</td>\n",
       "      <td>NaN</td>\n",
       "      <td>NaN</td>\n",
       "      <td>NaN</td>\n",
       "      <td>NaN</td>\n",
       "    </tr>\n",
       "    <tr>\n",
       "      <th>201</th>\n",
       "      <td>Tuvalu</td>\n",
       "      <td>NaN</td>\n",
       "      <td>NaN</td>\n",
       "      <td>NaN</td>\n",
       "      <td>NaN</td>\n",
       "      <td>NaN</td>\n",
       "      <td>NaN</td>\n",
       "      <td>NaN</td>\n",
       "      <td>NaN</td>\n",
       "      <td>NaN</td>\n",
       "      <td>NaN</td>\n",
       "      <td>NaN</td>\n",
       "      <td>NaN</td>\n",
       "    </tr>\n",
       "    <tr>\n",
       "      <th>212</th>\n",
       "      <td>Virgin Islands (U.S.)</td>\n",
       "      <td>NaN</td>\n",
       "      <td>NaN</td>\n",
       "      <td>NaN</td>\n",
       "      <td>NaN</td>\n",
       "      <td>NaN</td>\n",
       "      <td>NaN</td>\n",
       "      <td>NaN</td>\n",
       "      <td>NaN</td>\n",
       "      <td>NaN</td>\n",
       "      <td>NaN</td>\n",
       "      <td>NaN</td>\n",
       "      <td>NaN</td>\n",
       "    </tr>\n",
       "  </tbody>\n",
       "</table>\n",
       "<p>217 rows × 13 columns</p>\n",
       "</div>"
      ],
      "text/plain": [
       "                      Country       1990       2000       2007       2008  \\\n",
       "158                     Qatar  24.712027  58.522169  53.672746  46.684906   \n",
       "50                    Curacao        NaN        NaN        NaN        NaN   \n",
       "196       Trinidad and Tobago  13.879875  18.844281  36.816763  35.455298   \n",
       "105                    Kuwait  23.466084  27.759023  29.636849  30.581264   \n",
       "28          Brunei Darussalam  24.105188  14.255144  22.474463  23.950011   \n",
       "..                        ...        ...        ...        ...        ...   \n",
       "157               Puerto Rico        NaN        NaN        NaN        NaN   \n",
       "163                San Marino        NaN        NaN        NaN        NaN   \n",
       "182  St. Martin (French part)        NaN        NaN        NaN        NaN   \n",
       "201                    Tuvalu        NaN        NaN        NaN        NaN   \n",
       "212     Virgin Islands (U.S.)        NaN        NaN        NaN        NaN   \n",
       "\n",
       "          2009       2010       2011       2012       2013  2014  2015  2016  \n",
       "158  43.504331  41.131162  42.213752  46.697477  40.462355   NaN   NaN   NaN  \n",
       "50         NaN        NaN        NaN  39.638551  34.161635   NaN   NaN   NaN  \n",
       "196  33.952984  36.073741  35.137310  33.819694  34.520237   NaN   NaN   NaN  \n",
       "105  30.300789  29.294309  28.102662  29.578729  27.258964   NaN   NaN   NaN  \n",
       "28   20.311171  20.856947  24.272670  23.800884  18.918736   NaN   NaN   NaN  \n",
       "..         ...        ...        ...        ...        ...   ...   ...   ...  \n",
       "157        NaN        NaN        NaN        NaN        NaN   NaN   NaN   NaN  \n",
       "163        NaN        NaN        NaN        NaN        NaN   NaN   NaN   NaN  \n",
       "182        NaN        NaN        NaN        NaN        NaN   NaN   NaN   NaN  \n",
       "201        NaN        NaN        NaN        NaN        NaN   NaN   NaN   NaN  \n",
       "212        NaN        NaN        NaN        NaN        NaN   NaN   NaN   NaN  \n",
       "\n",
       "[217 rows x 13 columns]"
      ]
     },
     "execution_count": 23,
     "metadata": {},
     "output_type": "execute_result"
    }
   ],
   "source": [
    "# Sort column values using two columns\n",
    "sorted2012 = emission.sort_values( by = ['2012','2013'],ascending = [False, True] )\n",
    "sorted2012"
   ]
  },
  {
   "cell_type": "markdown",
   "metadata": {},
   "source": [
    "#### Slicing using the .loc and .iloc method\n",
    "Slicing allows you to take part of your DataFrame.  You can use the .iloc method to select data using row/column numbers, or use .loc to select data using row/column headings.  See [this article](https://www.shanelynn.ie/select-pandas-dataframe-rows-and-columns-using-iloc-loc-and-ix/) for more examples"
   ]
  },
  {
   "cell_type": "code",
   "execution_count": 24,
   "metadata": {},
   "outputs": [
    {
     "data": {
      "text/html": [
       "<div>\n",
       "<style scoped>\n",
       "    .dataframe tbody tr th:only-of-type {\n",
       "        vertical-align: middle;\n",
       "    }\n",
       "\n",
       "    .dataframe tbody tr th {\n",
       "        vertical-align: top;\n",
       "    }\n",
       "\n",
       "    .dataframe thead th {\n",
       "        text-align: right;\n",
       "    }\n",
       "</style>\n",
       "<table border=\"1\" class=\"dataframe\">\n",
       "  <thead>\n",
       "    <tr style=\"text-align: right;\">\n",
       "      <th></th>\n",
       "      <th>2000</th>\n",
       "      <th>2007</th>\n",
       "      <th>2008</th>\n",
       "      <th>2009</th>\n",
       "    </tr>\n",
       "  </thead>\n",
       "  <tbody>\n",
       "    <tr>\n",
       "      <th>2</th>\n",
       "      <td>2.819778</td>\n",
       "      <td>3.195865</td>\n",
       "      <td>3.168524</td>\n",
       "      <td>3.430129</td>\n",
       "    </tr>\n",
       "    <tr>\n",
       "      <th>3</th>\n",
       "      <td>NaN</td>\n",
       "      <td>NaN</td>\n",
       "      <td>NaN</td>\n",
       "      <td>NaN</td>\n",
       "    </tr>\n",
       "    <tr>\n",
       "      <th>4</th>\n",
       "      <td>8.018181</td>\n",
       "      <td>6.350868</td>\n",
       "      <td>6.296125</td>\n",
       "      <td>6.049173</td>\n",
       "    </tr>\n",
       "  </tbody>\n",
       "</table>\n",
       "</div>"
      ],
      "text/plain": [
       "       2000      2007      2008      2009\n",
       "2  2.819778  3.195865  3.168524  3.430129\n",
       "3       NaN       NaN       NaN       NaN\n",
       "4  8.018181  6.350868  6.296125  6.049173"
      ]
     },
     "execution_count": 24,
     "metadata": {},
     "output_type": "execute_result"
    }
   ],
   "source": [
    "# Slicing using a range of rows and range of columns \n",
    "emission.iloc[2:5,2:6]"
   ]
  },
  {
   "cell_type": "code",
   "execution_count": 25,
   "metadata": {},
   "outputs": [
    {
     "data": {
      "text/html": [
       "<div>\n",
       "<style scoped>\n",
       "    .dataframe tbody tr th:only-of-type {\n",
       "        vertical-align: middle;\n",
       "    }\n",
       "\n",
       "    .dataframe tbody tr th {\n",
       "        vertical-align: top;\n",
       "    }\n",
       "\n",
       "    .dataframe thead th {\n",
       "        text-align: right;\n",
       "    }\n",
       "</style>\n",
       "<table border=\"1\" class=\"dataframe\">\n",
       "  <thead>\n",
       "    <tr style=\"text-align: right;\">\n",
       "      <th></th>\n",
       "      <th>Country</th>\n",
       "      <th>1990</th>\n",
       "    </tr>\n",
       "  </thead>\n",
       "  <tbody>\n",
       "    <tr>\n",
       "      <th>3</th>\n",
       "      <td>American Samoa</td>\n",
       "      <td>NaN</td>\n",
       "    </tr>\n",
       "    <tr>\n",
       "      <th>5</th>\n",
       "      <td>Angola</td>\n",
       "      <td>0.459698</td>\n",
       "    </tr>\n",
       "  </tbody>\n",
       "</table>\n",
       "</div>"
      ],
      "text/plain": [
       "          Country      1990\n",
       "3  American Samoa       NaN\n",
       "5          Angola  0.459698"
      ]
     },
     "execution_count": 25,
     "metadata": {},
     "output_type": "execute_result"
    }
   ],
   "source": [
    "# Slicing using specific rows and specific columns\n",
    "emission.loc[[3,5],['Country','1990']]"
   ]
  },
  {
   "cell_type": "code",
   "execution_count": 26,
   "metadata": {},
   "outputs": [
    {
     "data": {
      "text/html": [
       "<div>\n",
       "<style scoped>\n",
       "    .dataframe tbody tr th:only-of-type {\n",
       "        vertical-align: middle;\n",
       "    }\n",
       "\n",
       "    .dataframe tbody tr th {\n",
       "        vertical-align: top;\n",
       "    }\n",
       "\n",
       "    .dataframe thead th {\n",
       "        text-align: right;\n",
       "    }\n",
       "</style>\n",
       "<table border=\"1\" class=\"dataframe\">\n",
       "  <thead>\n",
       "    <tr style=\"text-align: right;\">\n",
       "      <th></th>\n",
       "      <th>Country</th>\n",
       "      <th>1990</th>\n",
       "      <th>2000</th>\n",
       "      <th>2007</th>\n",
       "      <th>2008</th>\n",
       "      <th>2009</th>\n",
       "      <th>2010</th>\n",
       "      <th>2011</th>\n",
       "      <th>2012</th>\n",
       "      <th>2013</th>\n",
       "      <th>2014</th>\n",
       "      <th>2015</th>\n",
       "      <th>2016</th>\n",
       "    </tr>\n",
       "  </thead>\n",
       "  <tbody>\n",
       "    <tr>\n",
       "      <th>3</th>\n",
       "      <td>American Samoa</td>\n",
       "      <td>NaN</td>\n",
       "      <td>NaN</td>\n",
       "      <td>NaN</td>\n",
       "      <td>NaN</td>\n",
       "      <td>NaN</td>\n",
       "      <td>NaN</td>\n",
       "      <td>NaN</td>\n",
       "      <td>NaN</td>\n",
       "      <td>NaN</td>\n",
       "      <td>NaN</td>\n",
       "      <td>NaN</td>\n",
       "      <td>NaN</td>\n",
       "    </tr>\n",
       "    <tr>\n",
       "      <th>5</th>\n",
       "      <td>Angola</td>\n",
       "      <td>0.459698</td>\n",
       "      <td>0.633625</td>\n",
       "      <td>1.311096</td>\n",
       "      <td>1.295687</td>\n",
       "      <td>1.354389</td>\n",
       "      <td>1.369339</td>\n",
       "      <td>1.382752</td>\n",
       "      <td>1.472255</td>\n",
       "      <td>1.384496</td>\n",
       "      <td>NaN</td>\n",
       "      <td>NaN</td>\n",
       "      <td>NaN</td>\n",
       "    </tr>\n",
       "  </tbody>\n",
       "</table>\n",
       "</div>"
      ],
      "text/plain": [
       "          Country      1990      2000      2007      2008      2009      2010  \\\n",
       "3  American Samoa       NaN       NaN       NaN       NaN       NaN       NaN   \n",
       "5          Angola  0.459698  0.633625  1.311096  1.295687  1.354389  1.369339   \n",
       "\n",
       "       2011      2012      2013  2014  2015  2016  \n",
       "3       NaN       NaN       NaN   NaN   NaN   NaN  \n",
       "5  1.382752  1.472255  1.384496   NaN   NaN   NaN  "
      ]
     },
     "execution_count": 26,
     "metadata": {},
     "output_type": "execute_result"
    }
   ],
   "source": [
    "# Specific rows and all columns\n",
    "\n",
    "emission.loc[[3,5],:]"
   ]
  },
  {
   "cell_type": "code",
   "execution_count": 27,
   "metadata": {},
   "outputs": [
    {
     "data": {
      "text/html": [
       "<div>\n",
       "<style scoped>\n",
       "    .dataframe tbody tr th:only-of-type {\n",
       "        vertical-align: middle;\n",
       "    }\n",
       "\n",
       "    .dataframe tbody tr th {\n",
       "        vertical-align: top;\n",
       "    }\n",
       "\n",
       "    .dataframe thead th {\n",
       "        text-align: right;\n",
       "    }\n",
       "</style>\n",
       "<table border=\"1\" class=\"dataframe\">\n",
       "  <thead>\n",
       "    <tr style=\"text-align: right;\">\n",
       "      <th></th>\n",
       "      <th>Country</th>\n",
       "      <th>1990</th>\n",
       "    </tr>\n",
       "  </thead>\n",
       "  <tbody>\n",
       "    <tr>\n",
       "      <th>0</th>\n",
       "      <td>Afghanistan</td>\n",
       "      <td>0.216661</td>\n",
       "    </tr>\n",
       "    <tr>\n",
       "      <th>1</th>\n",
       "      <td>Albania</td>\n",
       "      <td>1.615624</td>\n",
       "    </tr>\n",
       "    <tr>\n",
       "      <th>2</th>\n",
       "      <td>Algeria</td>\n",
       "      <td>3.007911</td>\n",
       "    </tr>\n",
       "    <tr>\n",
       "      <th>3</th>\n",
       "      <td>American Samoa</td>\n",
       "      <td>NaN</td>\n",
       "    </tr>\n",
       "    <tr>\n",
       "      <th>4</th>\n",
       "      <td>Andorra</td>\n",
       "      <td>NaN</td>\n",
       "    </tr>\n",
       "    <tr>\n",
       "      <th>...</th>\n",
       "      <td>...</td>\n",
       "      <td>...</td>\n",
       "    </tr>\n",
       "    <tr>\n",
       "      <th>212</th>\n",
       "      <td>Virgin Islands (U.S.)</td>\n",
       "      <td>NaN</td>\n",
       "    </tr>\n",
       "    <tr>\n",
       "      <th>213</th>\n",
       "      <td>West Bank and Gaza</td>\n",
       "      <td>NaN</td>\n",
       "    </tr>\n",
       "    <tr>\n",
       "      <th>214</th>\n",
       "      <td>Yemen, Rep.</td>\n",
       "      <td>0.802312</td>\n",
       "    </tr>\n",
       "    <tr>\n",
       "      <th>215</th>\n",
       "      <td>Zambia</td>\n",
       "      <td>0.300362</td>\n",
       "    </tr>\n",
       "    <tr>\n",
       "      <th>216</th>\n",
       "      <td>Zimbabwe</td>\n",
       "      <td>1.478723</td>\n",
       "    </tr>\n",
       "  </tbody>\n",
       "</table>\n",
       "<p>217 rows × 2 columns</p>\n",
       "</div>"
      ],
      "text/plain": [
       "                   Country      1990\n",
       "0              Afghanistan  0.216661\n",
       "1                  Albania  1.615624\n",
       "2                  Algeria  3.007911\n",
       "3           American Samoa       NaN\n",
       "4                  Andorra       NaN\n",
       "..                     ...       ...\n",
       "212  Virgin Islands (U.S.)       NaN\n",
       "213     West Bank and Gaza       NaN\n",
       "214            Yemen, Rep.  0.802312\n",
       "215                 Zambia  0.300362\n",
       "216               Zimbabwe  1.478723\n",
       "\n",
       "[217 rows x 2 columns]"
      ]
     },
     "execution_count": 27,
     "metadata": {},
     "output_type": "execute_result"
    }
   ],
   "source": [
    "# All rows and specific columns\n",
    "emission.loc[:,['Country','1990']]"
   ]
  },
  {
   "cell_type": "markdown",
   "metadata": {},
   "source": [
    "### <span style=\"color:blue\"> Exercise 2 </span>\n",
    "\n",
    "Create a DataFrame object that has the name, region and IncomeGroup of the top 10 emitting countries in 2012.\n",
    "\n",
    "\n",
    "\n",
    "\n"
   ]
  },
  {
   "cell_type": "code",
   "execution_count": 28,
   "metadata": {},
   "outputs": [],
   "source": [
    "##answer here\n",
    "# create a DataFrame for the countries\n",
    "countries  = pd.read_csv('data/countries.csv',encoding = 'ISO-8859-1', index_col = 'Country')\n",
    "\n",
    "# finding the top 10 emitting countries in 2012\n",
    "sorted2012 = emission['2012'].sort_values(ascending=False)[:10]\n",
    "\n"
   ]
  },
  {
   "cell_type": "code",
   "execution_count": 29,
   "metadata": {},
   "outputs": [
    {
     "data": {
      "text/plain": [
       "Country\n",
       "Qatar                        46.697477\n",
       "Curacao                      39.638551\n",
       "Trinidad and Tobago          33.819694\n",
       "Kuwait                       29.578729\n",
       "Brunei Darussalam            23.800884\n",
       "Bahrain                      21.810997\n",
       "Sint Maarten (Dutch part)    21.489636\n",
       "Luxembourg                   20.084219\n",
       "United Arab Emirates         19.252223\n",
       "Saudi Arabia                 19.188937\n",
       "Name: 2012, dtype: float64"
      ]
     },
     "execution_count": 29,
     "metadata": {},
     "output_type": "execute_result"
    }
   ],
   "source": [
    "#sorted2012 = yr2012.sort_values(ascending=False)[:10]\n",
    "sorted2012 = emission['2012'].sort_values(ascending=False)[:10]\n",
    "\n",
    "sorted2012"
   ]
  },
  {
   "cell_type": "code",
   "execution_count": 30,
   "metadata": {},
   "outputs": [
    {
     "data": {
      "text/html": [
       "<div>\n",
       "<style scoped>\n",
       "    .dataframe tbody tr th:only-of-type {\n",
       "        vertical-align: middle;\n",
       "    }\n",
       "\n",
       "    .dataframe tbody tr th {\n",
       "        vertical-align: top;\n",
       "    }\n",
       "\n",
       "    .dataframe thead th {\n",
       "        text-align: right;\n",
       "    }\n",
       "</style>\n",
       "<table border=\"1\" class=\"dataframe\">\n",
       "  <thead>\n",
       "    <tr style=\"text-align: right;\">\n",
       "      <th></th>\n",
       "      <th>Region</th>\n",
       "      <th>IncomeGroup</th>\n",
       "    </tr>\n",
       "  </thead>\n",
       "  <tbody>\n",
       "    <tr>\n",
       "      <th>Qatar</th>\n",
       "      <td>Middle East &amp; North Africa</td>\n",
       "      <td>High income</td>\n",
       "    </tr>\n",
       "    <tr>\n",
       "      <th>Curacao</th>\n",
       "      <td>Latin America &amp; Caribbean</td>\n",
       "      <td>High income</td>\n",
       "    </tr>\n",
       "    <tr>\n",
       "      <th>Trinidad and Tobago</th>\n",
       "      <td>Latin America &amp; Caribbean</td>\n",
       "      <td>High income</td>\n",
       "    </tr>\n",
       "    <tr>\n",
       "      <th>Kuwait</th>\n",
       "      <td>Middle East &amp; North Africa</td>\n",
       "      <td>High income</td>\n",
       "    </tr>\n",
       "    <tr>\n",
       "      <th>Brunei Darussalam</th>\n",
       "      <td>East Asia &amp; Pacific</td>\n",
       "      <td>High income</td>\n",
       "    </tr>\n",
       "    <tr>\n",
       "      <th>Bahrain</th>\n",
       "      <td>Middle East &amp; North Africa</td>\n",
       "      <td>High income</td>\n",
       "    </tr>\n",
       "    <tr>\n",
       "      <th>Sint Maarten (Dutch part)</th>\n",
       "      <td>Latin America &amp; Caribbean</td>\n",
       "      <td>High income</td>\n",
       "    </tr>\n",
       "    <tr>\n",
       "      <th>Luxembourg</th>\n",
       "      <td>Europe &amp; Central Asia</td>\n",
       "      <td>High income</td>\n",
       "    </tr>\n",
       "    <tr>\n",
       "      <th>United Arab Emirates</th>\n",
       "      <td>Middle East &amp; North Africa</td>\n",
       "      <td>High income</td>\n",
       "    </tr>\n",
       "    <tr>\n",
       "      <th>Saudi Arabia</th>\n",
       "      <td>Middle East &amp; North Africa</td>\n",
       "      <td>High income</td>\n",
       "    </tr>\n",
       "  </tbody>\n",
       "</table>\n",
       "</div>"
      ],
      "text/plain": [
       "                                               Region  IncomeGroup\n",
       "Qatar                      Middle East & North Africa  High income\n",
       "Curacao                     Latin America & Caribbean  High income\n",
       "Trinidad and Tobago         Latin America & Caribbean  High income\n",
       "Kuwait                     Middle East & North Africa  High income\n",
       "Brunei Darussalam                 East Asia & Pacific  High income\n",
       "Bahrain                    Middle East & North Africa  High income\n",
       "Sint Maarten (Dutch part)   Latin America & Caribbean  High income\n",
       "Luxembourg                      Europe & Central Asia  High income\n",
       "United Arab Emirates       Middle East & North Africa  High income\n",
       "Saudi Arabia               Middle East & North Africa  High income"
      ]
     },
     "execution_count": 30,
     "metadata": {},
     "output_type": "execute_result"
    }
   ],
   "source": [
    "sorted2012 = emission['2012'].sort_values(ascending=False)[:10]\n",
    "cntry      = sorted2012.index\n",
    "# Find the information from countries dataframe\n",
    "cntryInfo  = (countries.loc[c,:] for c in cntry)\n",
    "# Final answer: create a new dataframe form cntryInfo\n",
    "top10      = pd.DataFrame(cntryInfo)\n",
    "top10   "
   ]
  },
  {
   "cell_type": "code",
   "execution_count": 31,
   "metadata": {},
   "outputs": [
    {
     "data": {
      "text/plain": [
       "Index(['Qatar', 'Curacao', 'Trinidad and Tobago', 'Kuwait',\n",
       "       'Brunei Darussalam', 'Bahrain', 'Sint Maarten (Dutch part)',\n",
       "       'Luxembourg', 'United Arab Emirates', 'Saudi Arabia'],\n",
       "      dtype='object', name='Country')"
      ]
     },
     "execution_count": 31,
     "metadata": {},
     "output_type": "execute_result"
    }
   ],
   "source": [
    "cntry"
   ]
  },
  {
   "cell_type": "code",
   "execution_count": 32,
   "metadata": {},
   "outputs": [
    {
     "data": {
      "text/html": [
       "<div>\n",
       "<style scoped>\n",
       "    .dataframe tbody tr th:only-of-type {\n",
       "        vertical-align: middle;\n",
       "    }\n",
       "\n",
       "    .dataframe tbody tr th {\n",
       "        vertical-align: top;\n",
       "    }\n",
       "\n",
       "    .dataframe thead th {\n",
       "        text-align: right;\n",
       "    }\n",
       "</style>\n",
       "<table border=\"1\" class=\"dataframe\">\n",
       "  <thead>\n",
       "    <tr style=\"text-align: right;\">\n",
       "      <th></th>\n",
       "      <th>Region</th>\n",
       "      <th>IncomeGroup</th>\n",
       "    </tr>\n",
       "    <tr>\n",
       "      <th>Country</th>\n",
       "      <th></th>\n",
       "      <th></th>\n",
       "    </tr>\n",
       "  </thead>\n",
       "  <tbody>\n",
       "    <tr>\n",
       "      <th>Qatar</th>\n",
       "      <td>Middle East &amp; North Africa</td>\n",
       "      <td>High income</td>\n",
       "    </tr>\n",
       "    <tr>\n",
       "      <th>Curacao</th>\n",
       "      <td>Latin America &amp; Caribbean</td>\n",
       "      <td>High income</td>\n",
       "    </tr>\n",
       "    <tr>\n",
       "      <th>Trinidad and Tobago</th>\n",
       "      <td>Latin America &amp; Caribbean</td>\n",
       "      <td>High income</td>\n",
       "    </tr>\n",
       "    <tr>\n",
       "      <th>Kuwait</th>\n",
       "      <td>Middle East &amp; North Africa</td>\n",
       "      <td>High income</td>\n",
       "    </tr>\n",
       "    <tr>\n",
       "      <th>Brunei Darussalam</th>\n",
       "      <td>East Asia &amp; Pacific</td>\n",
       "      <td>High income</td>\n",
       "    </tr>\n",
       "    <tr>\n",
       "      <th>Bahrain</th>\n",
       "      <td>Middle East &amp; North Africa</td>\n",
       "      <td>High income</td>\n",
       "    </tr>\n",
       "    <tr>\n",
       "      <th>Sint Maarten (Dutch part)</th>\n",
       "      <td>Latin America &amp; Caribbean</td>\n",
       "      <td>High income</td>\n",
       "    </tr>\n",
       "    <tr>\n",
       "      <th>Luxembourg</th>\n",
       "      <td>Europe &amp; Central Asia</td>\n",
       "      <td>High income</td>\n",
       "    </tr>\n",
       "    <tr>\n",
       "      <th>United Arab Emirates</th>\n",
       "      <td>Middle East &amp; North Africa</td>\n",
       "      <td>High income</td>\n",
       "    </tr>\n",
       "    <tr>\n",
       "      <th>Saudi Arabia</th>\n",
       "      <td>Middle East &amp; North Africa</td>\n",
       "      <td>High income</td>\n",
       "    </tr>\n",
       "  </tbody>\n",
       "</table>\n",
       "</div>"
      ],
      "text/plain": [
       "                                               Region  IncomeGroup\n",
       "Country                                                           \n",
       "Qatar                      Middle East & North Africa  High income\n",
       "Curacao                     Latin America & Caribbean  High income\n",
       "Trinidad and Tobago         Latin America & Caribbean  High income\n",
       "Kuwait                     Middle East & North Africa  High income\n",
       "Brunei Darussalam                 East Asia & Pacific  High income\n",
       "Bahrain                    Middle East & North Africa  High income\n",
       "Sint Maarten (Dutch part)   Latin America & Caribbean  High income\n",
       "Luxembourg                      Europe & Central Asia  High income\n",
       "United Arab Emirates       Middle East & North Africa  High income\n",
       "Saudi Arabia               Middle East & North Africa  High income"
      ]
     },
     "execution_count": 32,
     "metadata": {},
     "output_type": "execute_result"
    }
   ],
   "source": [
    "#Another solution\n",
    "sorted2012 = emission['2012'].sort_values(ascending=False)[:10]\n",
    "cntry      = sorted2012.index\n",
    "top10 = countries.loc[cntry,:]\n",
    "top10"
   ]
  },
  {
   "cell_type": "code",
   "execution_count": null,
   "metadata": {},
   "outputs": [],
   "source": []
  },
  {
   "cell_type": "markdown",
   "metadata": {},
   "source": [
    "## Groupby\n",
    "The Groupby method lets you separate the data into different groups based off shared characteristics.  For example, we could group countries by region or income range and then analyse those groups individually.  The official documentation on groupby can be found [here](https://pandas.pydata.org/pandas-docs/stable/user_guide/groupby.html).  [This tutorial](https://www.marsja.se/python-pandas-groupby-tutorial-examples/) is also well worth reading."
   ]
  },
  {
   "cell_type": "markdown",
   "metadata": {},
   "source": [
    "#### Groupby\n",
    "<img src=\"files/images/groupby1.jpg\">"
   ]
  },
  {
   "cell_type": "markdown",
   "metadata": {},
   "source": [
    "### <span style=\"color:blue\"> Exercise 3 </span>\n",
    "\n",
    "Using Countries data frame, group the rows using the Region column.\n",
    "* Show the size of each group\n",
    "* Find the number of high income and low income countries by region"
   ]
  },
  {
   "cell_type": "code",
   "execution_count": 33,
   "metadata": {},
   "outputs": [
    {
     "data": {
      "text/html": [
       "<div>\n",
       "<style scoped>\n",
       "    .dataframe tbody tr th:only-of-type {\n",
       "        vertical-align: middle;\n",
       "    }\n",
       "\n",
       "    .dataframe tbody tr th {\n",
       "        vertical-align: top;\n",
       "    }\n",
       "\n",
       "    .dataframe thead tr th {\n",
       "        text-align: left;\n",
       "    }\n",
       "\n",
       "    .dataframe thead tr:last-of-type th {\n",
       "        text-align: right;\n",
       "    }\n",
       "</style>\n",
       "<table border=\"1\" class=\"dataframe\">\n",
       "  <thead>\n",
       "    <tr>\n",
       "      <th></th>\n",
       "      <th colspan=\"4\" halign=\"left\">IncomeGroup</th>\n",
       "    </tr>\n",
       "    <tr>\n",
       "      <th></th>\n",
       "      <th>count</th>\n",
       "      <th>unique</th>\n",
       "      <th>top</th>\n",
       "      <th>freq</th>\n",
       "    </tr>\n",
       "    <tr>\n",
       "      <th>Region</th>\n",
       "      <th></th>\n",
       "      <th></th>\n",
       "      <th></th>\n",
       "      <th></th>\n",
       "    </tr>\n",
       "  </thead>\n",
       "  <tbody>\n",
       "    <tr>\n",
       "      <th>East Asia &amp; Pacific</th>\n",
       "      <td>37</td>\n",
       "      <td>4</td>\n",
       "      <td>Lower middle income</td>\n",
       "      <td>15</td>\n",
       "    </tr>\n",
       "    <tr>\n",
       "      <th>Europe &amp; Central Asia</th>\n",
       "      <td>58</td>\n",
       "      <td>3</td>\n",
       "      <td>High income</td>\n",
       "      <td>37</td>\n",
       "    </tr>\n",
       "    <tr>\n",
       "      <th>Latin America &amp; Caribbean</th>\n",
       "      <td>42</td>\n",
       "      <td>4</td>\n",
       "      <td>Upper middle income</td>\n",
       "      <td>20</td>\n",
       "    </tr>\n",
       "    <tr>\n",
       "      <th>Middle East &amp; North Africa</th>\n",
       "      <td>21</td>\n",
       "      <td>3</td>\n",
       "      <td>High income</td>\n",
       "      <td>8</td>\n",
       "    </tr>\n",
       "    <tr>\n",
       "      <th>North America</th>\n",
       "      <td>3</td>\n",
       "      <td>1</td>\n",
       "      <td>High income</td>\n",
       "      <td>3</td>\n",
       "    </tr>\n",
       "    <tr>\n",
       "      <th>South Asia</th>\n",
       "      <td>8</td>\n",
       "      <td>3</td>\n",
       "      <td>Lower middle income</td>\n",
       "      <td>5</td>\n",
       "    </tr>\n",
       "    <tr>\n",
       "      <th>Sub-Saharan Africa</th>\n",
       "      <td>48</td>\n",
       "      <td>4</td>\n",
       "      <td>Low income</td>\n",
       "      <td>27</td>\n",
       "    </tr>\n",
       "  </tbody>\n",
       "</table>\n",
       "</div>"
      ],
      "text/plain": [
       "                           IncomeGroup                                 \n",
       "                                 count unique                  top freq\n",
       "Region                                                                 \n",
       "East Asia & Pacific                 37      4  Lower middle income   15\n",
       "Europe & Central Asia               58      3          High income   37\n",
       "Latin America & Caribbean           42      4  Upper middle income   20\n",
       "Middle East & North Africa          21      3          High income    8\n",
       "North America                        3      1          High income    3\n",
       "South Asia                           8      3  Lower middle income    5\n",
       "Sub-Saharan Africa                  48      4           Low income   27"
      ]
     },
     "execution_count": 33,
     "metadata": {},
     "output_type": "execute_result"
    }
   ],
   "source": [
    "##answer here\n",
    "\n",
    "# Groupby using the Region column\n",
    "grouped = countries.groupby('Region')\n",
    "type(grouped)\n",
    "#print(grouped.count()) # it applies the function on each inner df\n",
    "grouped.describe()\n",
    "#grouped.count()\n"
   ]
  },
  {
   "cell_type": "code",
   "execution_count": 34,
   "metadata": {},
   "outputs": [
    {
     "name": "stdout",
     "output_type": "stream",
     "text": [
      "East Asia & Pacific:\t37\n",
      "Europe & Central Asia:\t58\n",
      "Latin America & Caribbean:\t42\n",
      "Middle East & North Africa:\t21\n",
      "North America:\t3\n",
      "South Asia:\t8\n",
      "Sub-Saharan Africa:\t48\n"
     ]
    }
   ],
   "source": [
    "# Show the size of each group\n",
    "for region,group in grouped:\n",
    "        print (region + ':\\t' + str(group.shape[0]))\n",
    "        #print (group.shape[0])#, type(group))"
   ]
  },
  {
   "cell_type": "code",
   "execution_count": 35,
   "metadata": {},
   "outputs": [
    {
     "name": "stdout",
     "output_type": "stream",
     "text": [
      "East Asia & Pacific\n",
      "\tHigh income: 13\n",
      "\tLow income: 1\n",
      "Europe & Central Asia\n",
      "\tHigh income: 37\n",
      "Latin America & Caribbean\n",
      "\tHigh income: 16\n",
      "\tLow income: 1\n",
      "Middle East & North Africa\n",
      "\tHigh income: 8\n",
      "North America\n",
      "\tHigh income: 3\n",
      "South Asia\n",
      "\tLow income: 2\n",
      "Sub-Saharan Africa\n",
      "\tHigh income: 1\n",
      "\tLow income: 27\n"
     ]
    }
   ],
   "source": [
    "# Find the number of high income and low income countries by region\n",
    "for region,group in grouped:\n",
    "        print (region)\n",
    "        count = group['IncomeGroup'].value_counts()\n",
    "        high_low = count.filter(items = ['High income', 'Low income'] , axis=0)\n",
    "        for i in high_low.index:\n",
    "            print('\\t' + i + ': ' + str(high_low[i]))\n",
    "        #print(high_low)\n",
    "        \n",
    "        #print (group['IncomeGroup'].value_counts())"
   ]
  },
  {
   "cell_type": "markdown",
   "metadata": {},
   "source": [
    "# Basic visualization with Python\n",
    "\n",
    "In these exercises you will:\n",
    "\n",
    "- learn how to visualize a set of data using a Python library called `matplotlib`.\n",
    "- find out different forms of visualization, such as bar charts, histograms, scatter plot, and boxplot.\n",
    "\n",
    "You will be able to transform a set of data into an appropriate visualization form.\n",
    "\n",
    "`matplotlib` is a Python 2D plotting library that enables you to produce figures and charts, both in a screen or in an image file. \n",
    "\n",
    "The following example demonstrates a simple plot of the top 100 emissions in 2010. \n"
   ]
  },
  {
   "cell_type": "code",
   "execution_count": 36,
   "metadata": {},
   "outputs": [],
   "source": [
    "# slice the data to get top 100 emissions in 2010\n",
    "\n",
    "yr2010_sorted = yr2010.sort_values(ascending = False)\n",
    "top100_yr2010 = yr2010_sorted[0:100]\n"
   ]
  },
  {
   "cell_type": "code",
   "execution_count": 37,
   "metadata": {},
   "outputs": [
    {
     "data": {
      "text/plain": [
       "{'whiskers': [<matplotlib.lines.Line2D at 0x7f56a9135fd0>,\n",
       "  <matplotlib.lines.Line2D at 0x7f56a9148510>],\n",
       " 'caps': [<matplotlib.lines.Line2D at 0x7f56a9148a10>,\n",
       "  <matplotlib.lines.Line2D at 0x7f56a9148f10>],\n",
       " 'boxes': [<matplotlib.lines.Line2D at 0x7f56a9135350>],\n",
       " 'medians': [<matplotlib.lines.Line2D at 0x7f56ab979fd0>],\n",
       " 'fliers': [<matplotlib.lines.Line2D at 0x7f56a90d1990>],\n",
       " 'means': []}"
      ]
     },
     "execution_count": 37,
     "metadata": {},
     "output_type": "execute_result"
    },
    {
     "data": {
      "image/png": "[encoded data removed]",
      "text/plain": [
       "<Figure size 432x288 with 1 Axes>"
      ]
     },
     "metadata": {
      "needs_background": "light"
     },
     "output_type": "display_data"
    }
   ],
   "source": [
    "%matplotlib inline\n",
    "import matplotlib.pyplot as plt\n",
    "\n",
    "plt.boxplot(top100_yr2010) # a boxplot of the top 100 emissions in year 2020"
   ]
  },
  {
   "cell_type": "markdown",
   "metadata": {},
   "source": [
    "## Scatter plot\n",
    "\n",
    "\n",
    "Scatter plot is often used to display the relationship between two variables (plot as x-y pairs). In this scatter plot example, we use [famous Iris data set](http://en.wikipedia.org/wiki/Iris_flower_data_set). The data is available [here](data/iris.csv). This data set provides measurements on various parts of three types of Iris flower (Iris setosa, Iris versicolour, and Iris virginica). For each type, there are 50 measurements, or samples. Each data row in the CSV file contains (1) sepal length, (2) sepal width, (3) petal length, (4) petal width, and (5) the type of Iris flower.\n",
    "\n",
    "The following code generates the scatter plot between petal length and petal width of the three Iris types."
   ]
  },
  {
   "cell_type": "code",
   "execution_count": 38,
   "metadata": {},
   "outputs": [
    {
     "data": {
      "image/png": "[encoded data removed]",
      "text/plain": [
       "<Figure size 432x288 with 1 Axes>"
      ]
     },
     "metadata": {
      "needs_background": "light"
     },
     "output_type": "display_data"
    }
   ],
   "source": [
    "%matplotlib inline\n",
    "import pandas as pd\n",
    "import matplotlib.pyplot as plt\n",
    "\n",
    "iris=pd.read_csv('data/iris.csv',encoding = 'ISO-8859-1',header=None)\n",
    "setosa=iris.loc[iris[4]=='Iris-setosa']\n",
    "versicolor=iris.loc[iris[4]=='Iris-versicolor']\n",
    "virginica=iris.loc[iris[4]=='Iris-virginica']\n",
    "\n",
    "\n",
    "plt.scatter(setosa.iloc[:,2],setosa.iloc[:,3],color='green')\n",
    "plt.scatter(versicolor.iloc[:,2],versicolor.iloc[:,3],color='red')\n",
    "plt.scatter(virginica.iloc[:,2],virginica.iloc[:,3],color='blue')\n",
    "plt.xlim(0.5,7.5)\n",
    "plt.ylim(0,3)\n",
    "plt.ylabel(\"petal width\")\n",
    "plt.xlabel(\"petal length\")\n",
    "plt.grid(True)\n",
    "\n"
   ]
  },
  {
   "cell_type": "markdown",
   "metadata": {},
   "source": [
    "From the scatter plot, we may be able to suggest a particular type of relationship or a formation of clusters. In the example above you may notice that, for Iris versicolor, the samples with longer petal tend to have wider petal. You can also see clearly that there exist clusters of these three Irises. As such, the measurements of petal and sepal can help identifying the type of Iris flower. This example demonstrates how botanists may indentify a certain species from phenotype characteristics."
   ]
  },
  {
   "cell_type": "markdown",
   "metadata": {},
   "source": [
    "### <span style=\"color:blue\"> Exercise 4 </span> \n",
    "\n",
    "\n",
    "Modify the example above to generate the scatter plot of petal length and sepal length.\n"
   ]
  },
  {
   "cell_type": "code",
   "execution_count": 57,
   "metadata": {},
   "outputs": [
    {
     "data": {
      "image/png": "[encoded data removed]",
      "text/plain": [
       "<Figure size 432x288 with 1 Axes>"
      ]
     },
     "metadata": {
      "needs_background": "light"
     },
     "output_type": "display_data"
    }
   ],
   "source": [
    "##answer here\n",
    "\n",
    "\n",
    "#(0) sepal length, (1) sepal width, (2) petal length, (3) petal width, and (4) the type of Iris flower.\n",
    "\n",
    "\n",
    "%matplotlib inline\n",
    "import pandas as pd\n",
    "import matplotlib.pyplot as plt\n",
    "\n",
    "iris=pd.read_csv('data/iris.csv',encoding = 'ISO-8859-1',header=None)\n",
    "setosa=iris.loc[iris[4]=='Iris-setosa']\n",
    "versicolor=iris.loc[iris[4]=='Iris-versicolor']\n",
    "virginica=iris.loc[iris[4]=='Iris-virginica']\n",
    "\n",
    "\n",
    "\n",
    "\n",
    "# index 2 is petal length, replace with index 0 for sepal length\n",
    "plt.scatter(setosa.iloc[:,0],setosa.iloc[:,2],color='green')\n",
    "plt.scatter(versicolor.iloc[:,0],versicolor.iloc[:,2],color='red')\n",
    "plt.scatter(virginica.iloc[:,0],virginica.iloc[:,2],color='blue')\n",
    "plt.xlim(4,8)\n",
    "plt.ylim(0.5,8)\n",
    "plt.ylabel(\"sepal length\")\n",
    "# change x lable to sepal length\n",
    "plt.xlabel(\"sepal length\")\n",
    "plt.grid(True)\n",
    "\n",
    "\n",
    "\n"
   ]
  },
  {
   "cell_type": "markdown",
   "metadata": {},
   "source": [
    "## Bar chart\n",
    "\n",
    "Bar chart is probably the most common type of chart. It displays a property or properties of a set of different entities. Bar chart is typically used to provide comparison, or to show contrast between different entities. For example, the bar chart below displays the GNP per capita of the three poorest and the three richest countries in the world (based on 2004 GNP per capita):"
   ]
  },
  {
   "cell_type": "code",
   "execution_count": 52,
   "metadata": {},
   "outputs": [
    {
     "data": {
      "image/png": "[encoded data removed]",
      "text/plain": [
       "<Figure size 432x288 with 1 Axes>"
      ]
     },
     "metadata": {
      "needs_background": "light"
     },
     "output_type": "display_data"
    }
   ],
   "source": [
    "%matplotlib inline\n",
    "import matplotlib.pyplot as plt\n",
    "import calendar\n",
    "from numpy import arange\n",
    "\n",
    "countries = ['Burundi','Ethiopia','Rep of Congo','Switzerland','Norway','Luxembourg']\n",
    "gnp = [90,110,110,49600,51810,56380] # GNP per capita (2004)\n",
    "plt.bar(arange(len(gnp)),gnp)\n",
    "plt.xticks( arange(len(countries)),countries, rotation=30)\n",
    "plt.show()"
   ]
  },
  {
   "cell_type": "markdown",
   "metadata": {},
   "source": [
    "### <span style=\"color:blue\"> Exercise 5 </span> \n",
    "\n",
    "\n",
    "Modify the bar chart example to plot the average maximum temperature in all major Australian cities. The data is available [here](data/max_temp.csv). \n"
   ]
  },
  {
   "cell_type": "code",
   "execution_count": 53,
   "metadata": {},
   "outputs": [],
   "source": [
    "##answer here\n",
    "\n",
    "tmp = pd.read_csv('data/max_temp.csv',encoding = 'ISO-8859-1')\n",
    "city_avg_tmp = tmp.iloc[:,1:].mean(axis=1)\n",
    "city_avg_tmp\n",
    "city = tmp.iloc[:,0]\n"
   ]
  },
  {
   "cell_type": "code",
   "execution_count": 54,
   "metadata": {},
   "outputs": [
    {
     "data": {
      "image/png": "[encoded data removed]",
      "text/plain": [
       "<Figure size 432x288 with 1 Axes>"
      ]
     },
     "metadata": {
      "needs_background": "light"
     },
     "output_type": "display_data"
    }
   ],
   "source": [
    "%matplotlib inline\n",
    "import matplotlib.pyplot as plt\n",
    "import calendar\n",
    "from numpy import arange\n",
    "\n",
    "plt.bar(arange(len(city)),city_avg_tmp)\n",
    "plt.xticks( arange(len(city)),city, rotation=30)\n",
    "plt.show()"
   ]
  },
  {
   "cell_type": "markdown",
   "metadata": {},
   "source": [
    "In a clustered bar chart, you can display a few measurements from the entities of interest. For example, the clustered bar chart below simultaneously shows the number of births and deaths in four countries of interest. The number of births is displayed as the blue-colored bar and the number of deaths as the red-colored bar:"
   ]
  },
  {
   "cell_type": "code",
   "execution_count": 55,
   "metadata": {},
   "outputs": [
    {
     "data": {
      "text/plain": [
       "([<matplotlib.axis.XTick at 0x1c907aad080>,\n",
       "  <matplotlib.axis.XTick at 0x1c907aad048>,\n",
       "  <matplotlib.axis.XTick at 0x1c907aa4c50>,\n",
       "  <matplotlib.axis.XTick at 0x1c907ad7f60>],\n",
       " [Text(0, 0, 'Afghanistan'),\n",
       "  Text(0, 0, 'Albania'),\n",
       "  Text(0, 0, 'Algeria'),\n",
       "  Text(0, 0, 'Angola')])"
      ]
     },
     "execution_count": 55,
     "metadata": {},
     "output_type": "execute_result"
    },
    {
     "data": {
      "image/png": "[encoded data removed]",
      "text/plain": [
       "<Figure size 432x288 with 1 Axes>"
      ]
     },
     "metadata": {
      "needs_background": "light"
     },
     "output_type": "display_data"
    }
   ],
   "source": [
    "%matplotlib inline\n",
    "import matplotlib.pyplot as plt\n",
    "import calendar\n",
    "from numpy import arange\n",
    "\n",
    "countries = ['Afghanistan', 'Albania', 'Algeria', 'Angola']\n",
    "births = [1143717, 53367, 598519, 498887]\n",
    "deaths = [529623, 16474, 144694, 285380]\n",
    "plt.bar(arange(len(births))-0.3, births, width=0.3)\n",
    "plt.bar(arange(len(deaths)),deaths, width=0.3,color='r')\n",
    "plt.xticks(arange(len(countries)),countries, rotation=30)"
   ]
  },
  {
   "cell_type": "markdown",
   "metadata": {},
   "source": [
    "## Histogram\n",
    "\n",
    "Histogram displays a distribution of population samples (typically a large set of data like digital images or age of population). The following example creates a histogram of age within a small number of samples (assumes these are the age of your classmates)."
   ]
  },
  {
   "cell_type": "code",
   "execution_count": 56,
   "metadata": {},
   "outputs": [
    {
     "data": {
      "image/png": "[encoded data removed]",
      "text/plain": [
       "<Figure size 432x288 with 1 Axes>"
      ]
     },
     "metadata": {
      "needs_background": "light"
     },
     "output_type": "display_data"
    }
   ],
   "source": [
    "%matplotlib inline\n",
    "import matplotlib.pyplot as plt\n",
    "\n",
    "\n",
    "ages = [17,18,18,19,21,19,19,21,20,23,19,22,20,21,19,19,14,23,16,17]\n",
    "plt.hist(ages, bins=10)\n",
    "plt.grid(which='major', axis='y')\n",
    "plt.show()"
   ]
  },
  {
   "cell_type": "markdown",
   "metadata": {},
   "source": [
    "### <span style=\"color:blue\"> Exercise 6 </span> \n",
    "\n",
    "\n",
    "Change the number of bins in the previous example to 20.\n",
    "Plot the histogram\n"
   ]
  },
  {
   "cell_type": "code",
   "execution_count": 45,
   "metadata": {},
   "outputs": [
    {
     "data": {
      "image/png": "[encoded data removed]",
      "text/plain": [
       "<Figure size 432x288 with 1 Axes>"
      ]
     },
     "metadata": {
      "needs_background": "light"
     },
     "output_type": "display_data"
    }
   ],
   "source": [
    "# answer here\n",
    "%matplotlib inline\n",
    "import matplotlib.pyplot as plt\n",
    "\n",
    "ages = [17,18,18,19,21,19,19,21,20,23,19,22,20,21,19,19,14,23,16,17]\n",
    "\n",
    "plt.hist(ages, bins=20)\n",
    "plt.grid(which='major', axis='y')\n",
    "plt.show()\n"
   ]
  },
  {
   "cell_type": "code",
   "execution_count": null,
   "metadata": {},
   "outputs": [],
   "source": []
  }
 ],
 "metadata": {
  "kernelspec": {
   "display_name": "Python 3",
   "language": "python",
   "name": "python3"
  },
  "language_info": {
   "codemirror_mode": {
    "name": "ipython",
    "version": 3
   },
   "file_extension": ".py",
   "mimetype": "text/x-python",
   "name": "python",
   "nbconvert_exporter": "python",
   "pygments_lexer": "ipython3",
   "version": "3.7.4"
  },
  "latex_envs": {
   "LaTeX_envs_menu_present": true,
   "autocomplete": true,
   "bibliofile": "biblio.bib",
   "cite_by": "apalike",
   "current_citInitial": 1,
   "eqLabelWithNumbers": true,
   "eqNumInitial": 1,
   "hotkeys": {
    "equation": "Ctrl-E",
    "itemize": "Ctrl-I"
   },
   "labels_anchors": false,
   "latex_user_defs": false,
   "report_style_numbering": false,
   "user_envs_cfg": false
  }
 },
 "nbformat": 4,
 "nbformat_minor": 4
}
